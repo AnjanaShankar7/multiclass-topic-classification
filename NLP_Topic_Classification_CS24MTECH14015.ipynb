{
  "cells": [
    {
      "cell_type": "markdown",
      "source": [
        "Install required libraies"
      ],
      "metadata": {
        "id": "82uZYlQCLq26"
      }
    },
    {
      "cell_type": "code",
      "execution_count": 1,
      "metadata": {
        "colab": {
          "base_uri": "https://localhost:8080/"
        },
        "id": "ANeBnyJQHcPC",
        "outputId": "9f618d39-e76a-4de0-e96c-77ed11bc25e7"
      },
      "outputs": [
        {
          "output_type": "stream",
          "name": "stdout",
          "text": [
            "Collecting nlpaug\n",
            "  Downloading nlpaug-1.1.11-py3-none-any.whl.metadata (14 kB)\n",
            "Requirement already satisfied: numpy>=1.16.2 in /usr/local/lib/python3.11/dist-packages (from nlpaug) (2.0.2)\n",
            "Requirement already satisfied: pandas>=1.2.0 in /usr/local/lib/python3.11/dist-packages (from nlpaug) (2.2.2)\n",
            "Requirement already satisfied: requests>=2.22.0 in /usr/local/lib/python3.11/dist-packages (from nlpaug) (2.32.3)\n",
            "Requirement already satisfied: gdown>=4.0.0 in /usr/local/lib/python3.11/dist-packages (from nlpaug) (5.2.0)\n",
            "Requirement already satisfied: beautifulsoup4 in /usr/local/lib/python3.11/dist-packages (from gdown>=4.0.0->nlpaug) (4.13.4)\n",
            "Requirement already satisfied: filelock in /usr/local/lib/python3.11/dist-packages (from gdown>=4.0.0->nlpaug) (3.18.0)\n",
            "Requirement already satisfied: tqdm in /usr/local/lib/python3.11/dist-packages (from gdown>=4.0.0->nlpaug) (4.67.1)\n",
            "Requirement already satisfied: python-dateutil>=2.8.2 in /usr/local/lib/python3.11/dist-packages (from pandas>=1.2.0->nlpaug) (2.9.0.post0)\n",
            "Requirement already satisfied: pytz>=2020.1 in /usr/local/lib/python3.11/dist-packages (from pandas>=1.2.0->nlpaug) (2025.2)\n",
            "Requirement already satisfied: tzdata>=2022.7 in /usr/local/lib/python3.11/dist-packages (from pandas>=1.2.0->nlpaug) (2025.2)\n",
            "Requirement already satisfied: charset-normalizer<4,>=2 in /usr/local/lib/python3.11/dist-packages (from requests>=2.22.0->nlpaug) (3.4.2)\n",
            "Requirement already satisfied: idna<4,>=2.5 in /usr/local/lib/python3.11/dist-packages (from requests>=2.22.0->nlpaug) (3.10)\n",
            "Requirement already satisfied: urllib3<3,>=1.21.1 in /usr/local/lib/python3.11/dist-packages (from requests>=2.22.0->nlpaug) (2.4.0)\n",
            "Requirement already satisfied: certifi>=2017.4.17 in /usr/local/lib/python3.11/dist-packages (from requests>=2.22.0->nlpaug) (2025.4.26)\n",
            "Requirement already satisfied: six>=1.5 in /usr/local/lib/python3.11/dist-packages (from python-dateutil>=2.8.2->pandas>=1.2.0->nlpaug) (1.17.0)\n",
            "Requirement already satisfied: soupsieve>1.2 in /usr/local/lib/python3.11/dist-packages (from beautifulsoup4->gdown>=4.0.0->nlpaug) (2.7)\n",
            "Requirement already satisfied: typing-extensions>=4.0.0 in /usr/local/lib/python3.11/dist-packages (from beautifulsoup4->gdown>=4.0.0->nlpaug) (4.13.2)\n",
            "Requirement already satisfied: PySocks!=1.5.7,>=1.5.6 in /usr/local/lib/python3.11/dist-packages (from requests[socks]->gdown>=4.0.0->nlpaug) (1.7.1)\n",
            "Downloading nlpaug-1.1.11-py3-none-any.whl (410 kB)\n",
            "\u001b[?25l   \u001b[90m━━━━━━━━━━━━━━━━━━━━━━━━━━━━━━━━━━━━━━━━\u001b[0m \u001b[32m0.0/410.5 kB\u001b[0m \u001b[31m?\u001b[0m eta \u001b[36m-:--:--\u001b[0m\r\u001b[2K   \u001b[91m━━━━━━━━━━━━━━━━━━━━━━━━━━━━━━━━━━━━━━━\u001b[0m\u001b[91m╸\u001b[0m \u001b[32m409.6/410.5 kB\u001b[0m \u001b[31m15.7 MB/s\u001b[0m eta \u001b[36m0:00:01\u001b[0m\r\u001b[2K   \u001b[90m━━━━━━━━━━━━━━━━━━━━━━━━━━━━━━━━━━━━━━━━\u001b[0m \u001b[32m410.5/410.5 kB\u001b[0m \u001b[31m11.4 MB/s\u001b[0m eta \u001b[36m0:00:00\u001b[0m\n",
            "\u001b[?25hInstalling collected packages: nlpaug\n",
            "Successfully installed nlpaug-1.1.11\n"
          ]
        }
      ],
      "source": [
        "pip install nlpaug"
      ]
    },
    {
      "cell_type": "markdown",
      "source": [
        "Import Libraries"
      ],
      "metadata": {
        "id": "piydUr2TLSoY"
      }
    },
    {
      "cell_type": "code",
      "execution_count": 2,
      "metadata": {
        "id": "ZfCEXy2BDz9d"
      },
      "outputs": [],
      "source": [
        "import pandas as pd # import all the required libraires\n",
        "import numpy as np\n",
        "import seaborn as sns\n",
        "import matplotlib.pyplot as plt\n",
        "import re\n",
        "import nltk\n",
        "from nltk.corpus import stopwords\n",
        "from nltk.tokenize import word_tokenize\n",
        "from sklearn.feature_extraction.text import CountVectorizer, TfidfVectorizer\n",
        "from sklearn.model_selection import train_test_split\n",
        "from sklearn.metrics import accuracy_score, classification_report\n",
        "from sklearn.utils.class_weight import compute_class_weight\n",
        "import nlpaug.augmenter.word as naw\n",
        "from collections import Counter\n",
        "import re\n",
        "import random\n",
        "import pandas as pd\n",
        "from collections import Counter\n",
        "import nltk\n",
        "from nltk.tokenize import word_tokenize\n",
        "from nltk.corpus import wordnet, stopwords\n",
        "from nltk.stem import WordNetLemmatizer"
      ]
    },
    {
      "cell_type": "code",
      "execution_count": 3,
      "metadata": {
        "id": "2QeaZNgbHNu4",
        "colab": {
          "base_uri": "https://localhost:8080/"
        },
        "outputId": "7bb31eb8-c9a7-4cb9-a720-cf7283a60509"
      },
      "outputs": [
        {
          "output_type": "stream",
          "name": "stderr",
          "text": [
            "[nltk_data] Downloading package stopwords to /root/nltk_data...\n",
            "[nltk_data]   Unzipping corpora/stopwords.zip.\n",
            "[nltk_data] Downloading package punkt to /root/nltk_data...\n",
            "[nltk_data]   Unzipping tokenizers/punkt.zip.\n",
            "[nltk_data] Downloading package punkt_tab to /root/nltk_data...\n",
            "[nltk_data]   Unzipping tokenizers/punkt_tab.zip.\n",
            "[nltk_data] Downloading package wordnet to /root/nltk_data...\n",
            "[nltk_data] Downloading package omw-1.4 to /root/nltk_data...\n"
          ]
        },
        {
          "output_type": "execute_result",
          "data": {
            "text/plain": [
              "True"
            ]
          },
          "metadata": {},
          "execution_count": 3
        }
      ],
      "source": [
        "nltk.download('stopwords') # download required nlp kits\n",
        "nltk.download('punkt')\n",
        "nltk.download('punkt_tab')\n",
        "nltk.download('wordnet')\n",
        "nltk.download('omw-1.4')"
      ]
    },
    {
      "cell_type": "code",
      "execution_count": 4,
      "metadata": {
        "id": "jv8PMngOHWJP"
      },
      "outputs": [],
      "source": [
        "aug = naw.SynonymAug(aug_src='wordnet', aug_min=1, aug_max=3) # synonyms generator"
      ]
    },
    {
      "cell_type": "markdown",
      "source": [
        "Load dataset"
      ],
      "metadata": {
        "id": "uiVI6hfTLVW8"
      }
    },
    {
      "cell_type": "code",
      "execution_count": 5,
      "metadata": {
        "colab": {
          "base_uri": "https://localhost:8080/"
        },
        "id": "4ySvHhrhH9wi",
        "outputId": "e65a0f47-ce88-4a2a-e8a7-c0ddd0391967"
      },
      "outputs": [
        {
          "output_type": "stream",
          "name": "stdout",
          "text": [
            "Mounted at /content/drive\n"
          ]
        }
      ],
      "source": [
        "from google.colab import drive # get dataset from drive\n",
        "drive.mount('/content/drive')"
      ]
    },
    {
      "cell_type": "code",
      "execution_count": 6,
      "metadata": {
        "colab": {
          "base_uri": "https://localhost:8080/",
          "height": 397
        },
        "id": "ljJ0TqbRHhIW",
        "outputId": "821deeb5-8876-4917-d01f-96ce96712207"
      },
      "outputs": [
        {
          "output_type": "execute_result",
          "data": {
            "text/plain": [
              "   ID                                              TITLE  \\\n",
              "0   1        Reconstructing Subject-Specific Effect Maps   \n",
              "1   2                 Rotation Invariance Neural Network   \n",
              "2   3  Spherical polyharmonics and Poisson kernels fo...   \n",
              "3   4  A finite element approximation for the stochas...   \n",
              "4   5  Comparative study of Discrete Wavelet Transfor...   \n",
              "\n",
              "                                            ABSTRACT  Computer Science  \\\n",
              "0    Predictive models allow subject-specific inf...                 1   \n",
              "1    Rotation invariance and translation invarian...                 1   \n",
              "2    We introduce and develop the notion of spher...                 0   \n",
              "3    The stochastic Landau--Lifshitz--Gilbert (LL...                 0   \n",
              "4    Fourier-transform infra-red (FTIR) spectra o...                 1   \n",
              "\n",
              "   Physics  Mathematics  Statistics  Quantitative Biology  \\\n",
              "0        0            0           0                     0   \n",
              "1        0            0           0                     0   \n",
              "2        0            1           0                     0   \n",
              "3        0            1           0                     0   \n",
              "4        0            0           1                     0   \n",
              "\n",
              "   Quantitative Finance  \n",
              "0                     0  \n",
              "1                     0  \n",
              "2                     0  \n",
              "3                     0  \n",
              "4                     0  "
            ],
            "text/html": [
              "\n",
              "  <div id=\"df-ee162a51-725b-4d5a-af97-1c8168d47bfa\" class=\"colab-df-container\">\n",
              "    <div>\n",
              "<style scoped>\n",
              "    .dataframe tbody tr th:only-of-type {\n",
              "        vertical-align: middle;\n",
              "    }\n",
              "\n",
              "    .dataframe tbody tr th {\n",
              "        vertical-align: top;\n",
              "    }\n",
              "\n",
              "    .dataframe thead th {\n",
              "        text-align: right;\n",
              "    }\n",
              "</style>\n",
              "<table border=\"1\" class=\"dataframe\">\n",
              "  <thead>\n",
              "    <tr style=\"text-align: right;\">\n",
              "      <th></th>\n",
              "      <th>ID</th>\n",
              "      <th>TITLE</th>\n",
              "      <th>ABSTRACT</th>\n",
              "      <th>Computer Science</th>\n",
              "      <th>Physics</th>\n",
              "      <th>Mathematics</th>\n",
              "      <th>Statistics</th>\n",
              "      <th>Quantitative Biology</th>\n",
              "      <th>Quantitative Finance</th>\n",
              "    </tr>\n",
              "  </thead>\n",
              "  <tbody>\n",
              "    <tr>\n",
              "      <th>0</th>\n",
              "      <td>1</td>\n",
              "      <td>Reconstructing Subject-Specific Effect Maps</td>\n",
              "      <td>Predictive models allow subject-specific inf...</td>\n",
              "      <td>1</td>\n",
              "      <td>0</td>\n",
              "      <td>0</td>\n",
              "      <td>0</td>\n",
              "      <td>0</td>\n",
              "      <td>0</td>\n",
              "    </tr>\n",
              "    <tr>\n",
              "      <th>1</th>\n",
              "      <td>2</td>\n",
              "      <td>Rotation Invariance Neural Network</td>\n",
              "      <td>Rotation invariance and translation invarian...</td>\n",
              "      <td>1</td>\n",
              "      <td>0</td>\n",
              "      <td>0</td>\n",
              "      <td>0</td>\n",
              "      <td>0</td>\n",
              "      <td>0</td>\n",
              "    </tr>\n",
              "    <tr>\n",
              "      <th>2</th>\n",
              "      <td>3</td>\n",
              "      <td>Spherical polyharmonics and Poisson kernels fo...</td>\n",
              "      <td>We introduce and develop the notion of spher...</td>\n",
              "      <td>0</td>\n",
              "      <td>0</td>\n",
              "      <td>1</td>\n",
              "      <td>0</td>\n",
              "      <td>0</td>\n",
              "      <td>0</td>\n",
              "    </tr>\n",
              "    <tr>\n",
              "      <th>3</th>\n",
              "      <td>4</td>\n",
              "      <td>A finite element approximation for the stochas...</td>\n",
              "      <td>The stochastic Landau--Lifshitz--Gilbert (LL...</td>\n",
              "      <td>0</td>\n",
              "      <td>0</td>\n",
              "      <td>1</td>\n",
              "      <td>0</td>\n",
              "      <td>0</td>\n",
              "      <td>0</td>\n",
              "    </tr>\n",
              "    <tr>\n",
              "      <th>4</th>\n",
              "      <td>5</td>\n",
              "      <td>Comparative study of Discrete Wavelet Transfor...</td>\n",
              "      <td>Fourier-transform infra-red (FTIR) spectra o...</td>\n",
              "      <td>1</td>\n",
              "      <td>0</td>\n",
              "      <td>0</td>\n",
              "      <td>1</td>\n",
              "      <td>0</td>\n",
              "      <td>0</td>\n",
              "    </tr>\n",
              "  </tbody>\n",
              "</table>\n",
              "</div>\n",
              "    <div class=\"colab-df-buttons\">\n",
              "\n",
              "  <div class=\"colab-df-container\">\n",
              "    <button class=\"colab-df-convert\" onclick=\"convertToInteractive('df-ee162a51-725b-4d5a-af97-1c8168d47bfa')\"\n",
              "            title=\"Convert this dataframe to an interactive table.\"\n",
              "            style=\"display:none;\">\n",
              "\n",
              "  <svg xmlns=\"http://www.w3.org/2000/svg\" height=\"24px\" viewBox=\"0 -960 960 960\">\n",
              "    <path d=\"M120-120v-720h720v720H120Zm60-500h600v-160H180v160Zm220 220h160v-160H400v160Zm0 220h160v-160H400v160ZM180-400h160v-160H180v160Zm440 0h160v-160H620v160ZM180-180h160v-160H180v160Zm440 0h160v-160H620v160Z\"/>\n",
              "  </svg>\n",
              "    </button>\n",
              "\n",
              "  <style>\n",
              "    .colab-df-container {\n",
              "      display:flex;\n",
              "      gap: 12px;\n",
              "    }\n",
              "\n",
              "    .colab-df-convert {\n",
              "      background-color: #E8F0FE;\n",
              "      border: none;\n",
              "      border-radius: 50%;\n",
              "      cursor: pointer;\n",
              "      display: none;\n",
              "      fill: #1967D2;\n",
              "      height: 32px;\n",
              "      padding: 0 0 0 0;\n",
              "      width: 32px;\n",
              "    }\n",
              "\n",
              "    .colab-df-convert:hover {\n",
              "      background-color: #E2EBFA;\n",
              "      box-shadow: 0px 1px 2px rgba(60, 64, 67, 0.3), 0px 1px 3px 1px rgba(60, 64, 67, 0.15);\n",
              "      fill: #174EA6;\n",
              "    }\n",
              "\n",
              "    .colab-df-buttons div {\n",
              "      margin-bottom: 4px;\n",
              "    }\n",
              "\n",
              "    [theme=dark] .colab-df-convert {\n",
              "      background-color: #3B4455;\n",
              "      fill: #D2E3FC;\n",
              "    }\n",
              "\n",
              "    [theme=dark] .colab-df-convert:hover {\n",
              "      background-color: #434B5C;\n",
              "      box-shadow: 0px 1px 3px 1px rgba(0, 0, 0, 0.15);\n",
              "      filter: drop-shadow(0px 1px 2px rgba(0, 0, 0, 0.3));\n",
              "      fill: #FFFFFF;\n",
              "    }\n",
              "  </style>\n",
              "\n",
              "    <script>\n",
              "      const buttonEl =\n",
              "        document.querySelector('#df-ee162a51-725b-4d5a-af97-1c8168d47bfa button.colab-df-convert');\n",
              "      buttonEl.style.display =\n",
              "        google.colab.kernel.accessAllowed ? 'block' : 'none';\n",
              "\n",
              "      async function convertToInteractive(key) {\n",
              "        const element = document.querySelector('#df-ee162a51-725b-4d5a-af97-1c8168d47bfa');\n",
              "        const dataTable =\n",
              "          await google.colab.kernel.invokeFunction('convertToInteractive',\n",
              "                                                    [key], {});\n",
              "        if (!dataTable) return;\n",
              "\n",
              "        const docLinkHtml = 'Like what you see? Visit the ' +\n",
              "          '<a target=\"_blank\" href=https://colab.research.google.com/notebooks/data_table.ipynb>data table notebook</a>'\n",
              "          + ' to learn more about interactive tables.';\n",
              "        element.innerHTML = '';\n",
              "        dataTable['output_type'] = 'display_data';\n",
              "        await google.colab.output.renderOutput(dataTable, element);\n",
              "        const docLink = document.createElement('div');\n",
              "        docLink.innerHTML = docLinkHtml;\n",
              "        element.appendChild(docLink);\n",
              "      }\n",
              "    </script>\n",
              "  </div>\n",
              "\n",
              "\n",
              "    <div id=\"df-5cf62ef3-955b-4c0a-990d-a2d5626ed480\">\n",
              "      <button class=\"colab-df-quickchart\" onclick=\"quickchart('df-5cf62ef3-955b-4c0a-990d-a2d5626ed480')\"\n",
              "                title=\"Suggest charts\"\n",
              "                style=\"display:none;\">\n",
              "\n",
              "<svg xmlns=\"http://www.w3.org/2000/svg\" height=\"24px\"viewBox=\"0 0 24 24\"\n",
              "     width=\"24px\">\n",
              "    <g>\n",
              "        <path d=\"M19 3H5c-1.1 0-2 .9-2 2v14c0 1.1.9 2 2 2h14c1.1 0 2-.9 2-2V5c0-1.1-.9-2-2-2zM9 17H7v-7h2v7zm4 0h-2V7h2v10zm4 0h-2v-4h2v4z\"/>\n",
              "    </g>\n",
              "</svg>\n",
              "      </button>\n",
              "\n",
              "<style>\n",
              "  .colab-df-quickchart {\n",
              "      --bg-color: #E8F0FE;\n",
              "      --fill-color: #1967D2;\n",
              "      --hover-bg-color: #E2EBFA;\n",
              "      --hover-fill-color: #174EA6;\n",
              "      --disabled-fill-color: #AAA;\n",
              "      --disabled-bg-color: #DDD;\n",
              "  }\n",
              "\n",
              "  [theme=dark] .colab-df-quickchart {\n",
              "      --bg-color: #3B4455;\n",
              "      --fill-color: #D2E3FC;\n",
              "      --hover-bg-color: #434B5C;\n",
              "      --hover-fill-color: #FFFFFF;\n",
              "      --disabled-bg-color: #3B4455;\n",
              "      --disabled-fill-color: #666;\n",
              "  }\n",
              "\n",
              "  .colab-df-quickchart {\n",
              "    background-color: var(--bg-color);\n",
              "    border: none;\n",
              "    border-radius: 50%;\n",
              "    cursor: pointer;\n",
              "    display: none;\n",
              "    fill: var(--fill-color);\n",
              "    height: 32px;\n",
              "    padding: 0;\n",
              "    width: 32px;\n",
              "  }\n",
              "\n",
              "  .colab-df-quickchart:hover {\n",
              "    background-color: var(--hover-bg-color);\n",
              "    box-shadow: 0 1px 2px rgba(60, 64, 67, 0.3), 0 1px 3px 1px rgba(60, 64, 67, 0.15);\n",
              "    fill: var(--button-hover-fill-color);\n",
              "  }\n",
              "\n",
              "  .colab-df-quickchart-complete:disabled,\n",
              "  .colab-df-quickchart-complete:disabled:hover {\n",
              "    background-color: var(--disabled-bg-color);\n",
              "    fill: var(--disabled-fill-color);\n",
              "    box-shadow: none;\n",
              "  }\n",
              "\n",
              "  .colab-df-spinner {\n",
              "    border: 2px solid var(--fill-color);\n",
              "    border-color: transparent;\n",
              "    border-bottom-color: var(--fill-color);\n",
              "    animation:\n",
              "      spin 1s steps(1) infinite;\n",
              "  }\n",
              "\n",
              "  @keyframes spin {\n",
              "    0% {\n",
              "      border-color: transparent;\n",
              "      border-bottom-color: var(--fill-color);\n",
              "      border-left-color: var(--fill-color);\n",
              "    }\n",
              "    20% {\n",
              "      border-color: transparent;\n",
              "      border-left-color: var(--fill-color);\n",
              "      border-top-color: var(--fill-color);\n",
              "    }\n",
              "    30% {\n",
              "      border-color: transparent;\n",
              "      border-left-color: var(--fill-color);\n",
              "      border-top-color: var(--fill-color);\n",
              "      border-right-color: var(--fill-color);\n",
              "    }\n",
              "    40% {\n",
              "      border-color: transparent;\n",
              "      border-right-color: var(--fill-color);\n",
              "      border-top-color: var(--fill-color);\n",
              "    }\n",
              "    60% {\n",
              "      border-color: transparent;\n",
              "      border-right-color: var(--fill-color);\n",
              "    }\n",
              "    80% {\n",
              "      border-color: transparent;\n",
              "      border-right-color: var(--fill-color);\n",
              "      border-bottom-color: var(--fill-color);\n",
              "    }\n",
              "    90% {\n",
              "      border-color: transparent;\n",
              "      border-bottom-color: var(--fill-color);\n",
              "    }\n",
              "  }\n",
              "</style>\n",
              "\n",
              "      <script>\n",
              "        async function quickchart(key) {\n",
              "          const quickchartButtonEl =\n",
              "            document.querySelector('#' + key + ' button');\n",
              "          quickchartButtonEl.disabled = true;  // To prevent multiple clicks.\n",
              "          quickchartButtonEl.classList.add('colab-df-spinner');\n",
              "          try {\n",
              "            const charts = await google.colab.kernel.invokeFunction(\n",
              "                'suggestCharts', [key], {});\n",
              "          } catch (error) {\n",
              "            console.error('Error during call to suggestCharts:', error);\n",
              "          }\n",
              "          quickchartButtonEl.classList.remove('colab-df-spinner');\n",
              "          quickchartButtonEl.classList.add('colab-df-quickchart-complete');\n",
              "        }\n",
              "        (() => {\n",
              "          let quickchartButtonEl =\n",
              "            document.querySelector('#df-5cf62ef3-955b-4c0a-990d-a2d5626ed480 button');\n",
              "          quickchartButtonEl.style.display =\n",
              "            google.colab.kernel.accessAllowed ? 'block' : 'none';\n",
              "        })();\n",
              "      </script>\n",
              "    </div>\n",
              "\n",
              "    </div>\n",
              "  </div>\n"
            ],
            "application/vnd.google.colaboratory.intrinsic+json": {
              "type": "dataframe",
              "variable_name": "df",
              "summary": "{\n  \"name\": \"df\",\n  \"rows\": 20972,\n  \"fields\": [\n    {\n      \"column\": \"ID\",\n      \"properties\": {\n        \"dtype\": \"number\",\n        \"std\": 6054,\n        \"min\": 1,\n        \"max\": 20972,\n        \"num_unique_values\": 20972,\n        \"samples\": [\n          20258,\n          483,\n          4190\n        ],\n        \"semantic_type\": \"\",\n        \"description\": \"\"\n      }\n    },\n    {\n      \"column\": \"TITLE\",\n      \"properties\": {\n        \"dtype\": \"string\",\n        \"num_unique_values\": 20972,\n        \"samples\": [\n          \"Dynamic Layer Normalization for Adaptive Neural Acoustic Modeling in Speech Recognition\",\n          \"Susceptibility Propagation by Using Diagonal Consistency\",\n          \"The Robot Routing Problem for Collecting Aggregate Stochastic Rewards\"\n        ],\n        \"semantic_type\": \"\",\n        \"description\": \"\"\n      }\n    },\n    {\n      \"column\": \"ABSTRACT\",\n      \"properties\": {\n        \"dtype\": \"string\",\n        \"num_unique_values\": 20972,\n        \"samples\": [\n          \"  Layer normalization is a recently introduced technique for normalizing the\\nactivities of neurons in deep neural networks to improve the training speed and\\nstability. In this paper, we introduce a new layer normalization technique\\ncalled Dynamic Layer Normalization (DLN) for adaptive neural acoustic modeling\\nin speech recognition. By dynamically generating the scaling and shifting\\nparameters in layer normalization, DLN adapts neural acoustic models to the\\nacoustic variability arising from various factors such as speakers, channel\\nnoises, and environments. Unlike other adaptive acoustic models, our proposed\\napproach does not require additional adaptation data or speaker information\\nsuch as i-vectors. Moreover, the model size is fixed as it dynamically\\ngenerates adaptation parameters. We apply our proposed DLN to deep\\nbidirectional LSTM acoustic models and evaluate them on two benchmark datasets\\nfor large vocabulary ASR experiments: WSJ and TED-LIUM release 2. The\\nexperimental results show that our DLN improves neural acoustic models in terms\\nof transcription accuracy by dynamically adapting to various speakers and\\nenvironments.\\n\",\n          \"  A susceptibility propagation that is constructed by combining a belief\\npropagation and a linear response method is used for approximate computation\\nfor Markov random fields. Herein, we formulate a new, improved susceptibility\\npropagation by using the concept of a diagonal matching method that is based on\\nmean-field approaches to inverse Ising problems. The proposed susceptibility\\npropagation is robust for various network structures, and it is reduced to the\\nordinary susceptibility propagation and to the adaptive\\nThouless-Anderson-Palmer equation in special cases.\\n\",\n          \"  We propose a new model for formalizing reward collection problems on graphs\\nwith dynamically generated rewards which may appear and disappear based on a\\nstochastic model. The *robot routing problem* is modeled as a graph whose nodes\\nare stochastic processes generating potential rewards over discrete time. The\\nrewards are generated according to the stochastic process, but at each step, an\\nexisting reward disappears with a given probability. The edges in the graph\\nencode the (unit-distance) paths between the rewards' locations. On visiting a\\nnode, the robot collects the accumulated reward at the node at that time, but\\ntraveling between the nodes takes time. The optimization question asks to\\ncompute an optimal (or epsilon-optimal) path that maximizes the expected\\ncollected rewards.\\nWe consider the finite and infinite-horizon robot routing problems. For\\nfinite-horizon, the goal is to maximize the total expected reward, while for\\ninfinite horizon we consider limit-average objectives. We study the\\ncomputational and strategy complexity of these problems, establish NP-lower\\nbounds and show that optimal strategies require memory in general. We also\\nprovide an algorithm for computing epsilon-optimal infinite paths for arbitrary\\nepsilon > 0.\\n\"\n        ],\n        \"semantic_type\": \"\",\n        \"description\": \"\"\n      }\n    },\n    {\n      \"column\": \"Computer Science\",\n      \"properties\": {\n        \"dtype\": \"number\",\n        \"std\": 0,\n        \"min\": 0,\n        \"max\": 1,\n        \"num_unique_values\": 2,\n        \"samples\": [\n          0,\n          1\n        ],\n        \"semantic_type\": \"\",\n        \"description\": \"\"\n      }\n    },\n    {\n      \"column\": \"Physics\",\n      \"properties\": {\n        \"dtype\": \"number\",\n        \"std\": 0,\n        \"min\": 0,\n        \"max\": 1,\n        \"num_unique_values\": 2,\n        \"samples\": [\n          1,\n          0\n        ],\n        \"semantic_type\": \"\",\n        \"description\": \"\"\n      }\n    },\n    {\n      \"column\": \"Mathematics\",\n      \"properties\": {\n        \"dtype\": \"number\",\n        \"std\": 0,\n        \"min\": 0,\n        \"max\": 1,\n        \"num_unique_values\": 2,\n        \"samples\": [\n          1,\n          0\n        ],\n        \"semantic_type\": \"\",\n        \"description\": \"\"\n      }\n    },\n    {\n      \"column\": \"Statistics\",\n      \"properties\": {\n        \"dtype\": \"number\",\n        \"std\": 0,\n        \"min\": 0,\n        \"max\": 1,\n        \"num_unique_values\": 2,\n        \"samples\": [\n          1,\n          0\n        ],\n        \"semantic_type\": \"\",\n        \"description\": \"\"\n      }\n    },\n    {\n      \"column\": \"Quantitative Biology\",\n      \"properties\": {\n        \"dtype\": \"number\",\n        \"std\": 0,\n        \"min\": 0,\n        \"max\": 1,\n        \"num_unique_values\": 2,\n        \"samples\": [\n          1,\n          0\n        ],\n        \"semantic_type\": \"\",\n        \"description\": \"\"\n      }\n    },\n    {\n      \"column\": \"Quantitative Finance\",\n      \"properties\": {\n        \"dtype\": \"number\",\n        \"std\": 0,\n        \"min\": 0,\n        \"max\": 1,\n        \"num_unique_values\": 2,\n        \"samples\": [\n          1,\n          0\n        ],\n        \"semantic_type\": \"\",\n        \"description\": \"\"\n      }\n    }\n  ]\n}"
            }
          },
          "metadata": {},
          "execution_count": 6
        }
      ],
      "source": [
        "df = pd.read_excel('/content/drive/MyDrive/Dataset-1.xlsx', engine='openpyxl') # load excel file\n",
        "df.head()"
      ]
    },
    {
      "cell_type": "markdown",
      "source": [
        "Class Distribution"
      ],
      "metadata": {
        "id": "sfl_8AbRLXV8"
      }
    },
    {
      "cell_type": "code",
      "execution_count": 7,
      "metadata": {
        "colab": {
          "base_uri": "https://localhost:8080/",
          "height": 552
        },
        "id": "uJlT9aqWHkOk",
        "outputId": "2acafe9b-b134-4cb6-d1c9-cc5eaba69f6b"
      },
      "outputs": [
        {
          "output_type": "display_data",
          "data": {
            "text/plain": [
              "<Figure size 1200x600 with 1 Axes>"
            ],
            "image/png": "[encoded data removed]"
          },
          "metadata": {}
        }
      ],
      "source": [
        "label_columns = df.columns[3:9] # print the distribution of classes\n",
        "label_distribution = df[label_columns].sum().sort_values(ascending=False)\n",
        "plt.figure(figsize=(12, 6))\n",
        "sns.barplot(x=label_distribution.index, y=label_distribution.values)\n",
        "plt.xlabel(\"Classes\")\n",
        "plt.ylabel(\"Number of records\")\n",
        "plt.title(\"Label Distribution\")\n",
        "plt.show()"
      ]
    },
    {
      "cell_type": "markdown",
      "source": [
        "From the image, it is clear that a stark class imbalance is present in the dataset."
      ],
      "metadata": {
        "id": "XtXGlKJsMGWx"
      }
    },
    {
      "cell_type": "markdown",
      "source": [
        "Data Preprocessing"
      ],
      "metadata": {
        "id": "7oPOLgP7LZpy"
      }
    },
    {
      "cell_type": "code",
      "execution_count": 8,
      "metadata": {
        "id": "Z9W0hgTwIJbE"
      },
      "outputs": [],
      "source": [
        "# Apply to combined TITLE + ABSTRACT\n",
        "df['TEXT'] = df['TITLE'] + \" \" +  df['ABSTRACT']\n",
        "# X = \"Title: \" + df.iloc[:, 1]+ \", Abstract: \" + df.iloc[:,2]\n",
        "df['LABEL'] = df.iloc[:,3:9].idxmax(axis=1)"
      ]
    },
    {
      "cell_type": "code",
      "execution_count": 9,
      "metadata": {
        "colab": {
          "base_uri": "https://localhost:8080/",
          "height": 157
        },
        "id": "AaVR3m20IkoZ",
        "outputId": "beecdfdf-64f0-4991-95d9-df732fceb75b"
      },
      "outputs": [
        {
          "output_type": "execute_result",
          "data": {
            "text/plain": [
              "\"Reconstructing Subject-Specific Effect Maps   Predictive models allow subject-specific inference when analyzing disease\\nrelated alterations in neuroimaging data. Given a subject's data, inference can\\nbe made at two levels: global, i.e. identifiying condition presence for the\\nsubject, and local, i.e. detecting condition effect on each individual\\nmeasurement extracted from the subject's data. While global inference is widely\\nused, local inference, which can be used to form subject-specific effect maps,\\nis rarely used because existing models often yield noisy detections composed of\\ndispersed isolated islands. In this article, we propose a reconstruction\\nmethod, named RSM, to improve subject-specific detections of predictive\\nmodeling approaches and in particular, binary classifiers. RSM specifically\\naims to reduce noise due to sampling error associated with using a finite\\nsample of examples to train classifiers. The proposed method is a wrapper-type\\nalgorithm that can be used with different binary classifiers in a diagnostic\\nmanner, i.e. without information on condition presence. Reconstruction is posed\\nas a Maximum-A-Posteriori problem with a prior model whose parameters are\\nestimated from training data in a classifier-specific fashion. Experimental\\nevaluation is performed on synthetically generated data and data from the\\nAlzheimer's Disease Neuroimaging Initiative (ADNI) database. Results on\\nsynthetic data demonstrate that using RSM yields higher detection accuracy\\ncompared to using models directly or with bootstrap averaging. Analyses on the\\nADNI dataset show that RSM can also improve correlation between\\nsubject-specific detections in cortical thickness data and non-imaging markers\\nof Alzheimer's Disease (AD), such as the Mini Mental State Examination Score\\nand Cerebrospinal Fluid amyloid-$\\\\beta$ levels. Further reliability studies on\\nthe longitudinal ADNI dataset show improvement on detection reliability when\\nRSM is used.\\n\""
            ],
            "application/vnd.google.colaboratory.intrinsic+json": {
              "type": "string"
            }
          },
          "metadata": {},
          "execution_count": 9
        }
      ],
      "source": [
        "df['TEXT'].iloc[0]"
      ]
    },
    {
      "cell_type": "code",
      "execution_count": 10,
      "metadata": {
        "colab": {
          "base_uri": "https://localhost:8080/",
          "height": 36
        },
        "id": "zamzJ2sVIj6g",
        "outputId": "76ae8c22-890f-4039-dfa5-fe3dc3eeb278"
      },
      "outputs": [
        {
          "output_type": "execute_result",
          "data": {
            "text/plain": [
              "'Computer Science'"
            ],
            "application/vnd.google.colaboratory.intrinsic+json": {
              "type": "string"
            }
          },
          "metadata": {},
          "execution_count": 10
        }
      ],
      "source": [
        "df['LABEL'].iloc[4]"
      ]
    },
    {
      "cell_type": "code",
      "execution_count": 11,
      "metadata": {
        "colab": {
          "base_uri": "https://localhost:8080/"
        },
        "id": "ufStpBs8JSqX",
        "outputId": "ac79eb71-082a-4254-ba18-6e6254d2ecda"
      },
      "outputs": [
        {
          "output_type": "stream",
          "name": "stdout",
          "text": [
            "Class Computer Science: 8594 samples\n",
            "Class Mathematics: 4436 samples\n",
            "Class Physics: 5521 samples\n",
            "Class Quantitative Biology: 447 samples\n",
            "Class Quantitative Finance: 209 samples\n",
            "Class Statistics: 1765 samples\n"
          ]
        }
      ],
      "source": [
        "unique_classes, counts = np.unique(df['LABEL'], return_counts=True) # getting class counts\n",
        "for cls, cnt in zip(unique_classes, counts):\n",
        "    print(f\"Class {cls}: {cnt} samples\")"
      ]
    },
    {
      "cell_type": "code",
      "execution_count": 12,
      "metadata": {
        "colab": {
          "base_uri": "https://localhost:8080/",
          "height": 429
        },
        "id": "DvW5YYWEJXDE",
        "outputId": "a566c3d7-814b-471b-f4d5-21f4231a58fe"
      },
      "outputs": [
        {
          "output_type": "execute_result",
          "data": {
            "text/plain": [
              "ID                      0\n",
              "TITLE                   0\n",
              "ABSTRACT                0\n",
              "Computer Science        0\n",
              "Physics                 0\n",
              "Mathematics             0\n",
              "Statistics              0\n",
              "Quantitative Biology    0\n",
              "Quantitative Finance    0\n",
              "TEXT                    0\n",
              "LABEL                   0\n",
              "dtype: int64"
            ],
            "text/html": [
              "<div>\n",
              "<style scoped>\n",
              "    .dataframe tbody tr th:only-of-type {\n",
              "        vertical-align: middle;\n",
              "    }\n",
              "\n",
              "    .dataframe tbody tr th {\n",
              "        vertical-align: top;\n",
              "    }\n",
              "\n",
              "    .dataframe thead th {\n",
              "        text-align: right;\n",
              "    }\n",
              "</style>\n",
              "<table border=\"1\" class=\"dataframe\">\n",
              "  <thead>\n",
              "    <tr style=\"text-align: right;\">\n",
              "      <th></th>\n",
              "      <th>0</th>\n",
              "    </tr>\n",
              "  </thead>\n",
              "  <tbody>\n",
              "    <tr>\n",
              "      <th>ID</th>\n",
              "      <td>0</td>\n",
              "    </tr>\n",
              "    <tr>\n",
              "      <th>TITLE</th>\n",
              "      <td>0</td>\n",
              "    </tr>\n",
              "    <tr>\n",
              "      <th>ABSTRACT</th>\n",
              "      <td>0</td>\n",
              "    </tr>\n",
              "    <tr>\n",
              "      <th>Computer Science</th>\n",
              "      <td>0</td>\n",
              "    </tr>\n",
              "    <tr>\n",
              "      <th>Physics</th>\n",
              "      <td>0</td>\n",
              "    </tr>\n",
              "    <tr>\n",
              "      <th>Mathematics</th>\n",
              "      <td>0</td>\n",
              "    </tr>\n",
              "    <tr>\n",
              "      <th>Statistics</th>\n",
              "      <td>0</td>\n",
              "    </tr>\n",
              "    <tr>\n",
              "      <th>Quantitative Biology</th>\n",
              "      <td>0</td>\n",
              "    </tr>\n",
              "    <tr>\n",
              "      <th>Quantitative Finance</th>\n",
              "      <td>0</td>\n",
              "    </tr>\n",
              "    <tr>\n",
              "      <th>TEXT</th>\n",
              "      <td>0</td>\n",
              "    </tr>\n",
              "    <tr>\n",
              "      <th>LABEL</th>\n",
              "      <td>0</td>\n",
              "    </tr>\n",
              "  </tbody>\n",
              "</table>\n",
              "</div><br><label><b>dtype:</b> int64</label>"
            ]
          },
          "metadata": {},
          "execution_count": 12
        }
      ],
      "source": [
        "df.isnull().sum() # check if any null"
      ]
    },
    {
      "cell_type": "code",
      "execution_count": 13,
      "metadata": {
        "colab": {
          "base_uri": "https://localhost:8080/"
        },
        "id": "o-bDEw-DJamA",
        "outputId": "15c4ed5a-8b19-4607-a767-1bacc0e0ef10"
      },
      "outputs": [
        {
          "output_type": "execute_result",
          "data": {
            "text/plain": [
              "(20972, 11)"
            ]
          },
          "metadata": {},
          "execution_count": 13
        }
      ],
      "source": [
        "df.shape"
      ]
    },
    {
      "cell_type": "code",
      "execution_count": 14,
      "metadata": {
        "id": "qs6Yx_r5Jc8w"
      },
      "outputs": [],
      "source": [
        "df.drop_duplicates(inplace = True) # drop all duplicates in the dataset"
      ]
    },
    {
      "cell_type": "code",
      "execution_count": 15,
      "metadata": {
        "colab": {
          "base_uri": "https://localhost:8080/"
        },
        "id": "eAORb-SnJesg",
        "outputId": "4da0e22a-6f05-46e5-be31-7c3379d1551f"
      },
      "outputs": [
        {
          "output_type": "execute_result",
          "data": {
            "text/plain": [
              "(20972, 11)"
            ]
          },
          "metadata": {},
          "execution_count": 15
        }
      ],
      "source": [
        "df.shape"
      ]
    },
    {
      "cell_type": "code",
      "execution_count": 16,
      "metadata": {
        "colab": {
          "base_uri": "https://localhost:8080/"
        },
        "id": "0metQHtSJg83",
        "outputId": "684dce1e-4424-4d09-a7d6-40947da0cd00"
      },
      "outputs": [
        {
          "output_type": "stream",
          "name": "stdout",
          "text": [
            "3086457\n"
          ]
        }
      ],
      "source": [
        "def print_num_words(text): # print the number of words\n",
        "  print(text.apply(lambda x: len(x.split(' '))).sum())\n",
        "print_num_words(df['TEXT'])"
      ]
    },
    {
      "cell_type": "markdown",
      "source": [
        "Text Cleaning"
      ],
      "metadata": {
        "id": "GkyLDpWCLog0"
      }
    },
    {
      "cell_type": "code",
      "source": [
        "stop_words = set(stopwords.words('english')) # getting stopwords in the english language\n",
        "lemmatizer = WordNetLemmatizer() # lemmatizer initialized to lemmatoze text\n",
        "\n",
        "def preprocess_text(text): # function to preprocess text\n",
        "    if not isinstance(text, str): # checking if text is of type string\n",
        "        return \"\"\n",
        "    text = text.lower() # converting to lower case\n",
        "    text = re.sub(r'[/(){}\\[\\]\\|@,;]', ' ', text) # remove special characters\n",
        "    text = re.sub(r'[^a-z\\s]', '', text) # keep alphabets\n",
        "    words = word_tokenize(text) # tokenize text to words\n",
        "    words = [lemmatizer.lemmatize(w) for w in words if w not in stop_words] # lemmatize text and remove stopwords\n",
        "    return ' '.join(words) # join the tokens back to text\n",
        "\n",
        "# Apply cleaning of data\n",
        "df['TEXT'] = df['TEXT'].apply(preprocess_text)"
      ],
      "metadata": {
        "id": "3vP-Leo1LqPw"
      },
      "execution_count": 17,
      "outputs": []
    },
    {
      "cell_type": "markdown",
      "source": [
        "Synonym Replacement for Augmentation"
      ],
      "metadata": {
        "id": "BZyj1GfqL-7f"
      }
    },
    {
      "cell_type": "code",
      "execution_count": 18,
      "metadata": {
        "colab": {
          "base_uri": "https://localhost:8080/"
        },
        "id": "CbaOJtBlPsYE",
        "outputId": "afb6164b-0d94-4723-f810-63aa3cf922d0"
      },
      "outputs": [
        {
          "output_type": "stream",
          "name": "stdout",
          "text": [
            "Minority classes detected for augmentation: ['Quantitative Biology', 'Statistics', 'Quantitative Finance']\n",
            "Original size: 20972\n",
            "Augmented size: 7263\n",
            "Combined size: 28235\n"
          ]
        }
      ],
      "source": [
        "def get_synonyms(word): # get synpnyms for a given word\n",
        "    synonyms = set()\n",
        "    for syn in wordnet.synsets(word):\n",
        "        for lemma in syn.lemmas():\n",
        "            w = lemma.name().replace('_', ' ').lower()\n",
        "            if w != word.lower():\n",
        "                synonyms.add(w)\n",
        "    return list(synonyms)\n",
        "\n",
        "def synonym_augment(text, n_replacements=2): # augment the dataset using the synonyms\n",
        "    words = word_tokenize(text)\n",
        "    new_words = words.copy()\n",
        "    eligible_indices = [i for i, word in enumerate(words) if wordnet.synsets(word)]\n",
        "\n",
        "    if not eligible_indices:\n",
        "        return text  # no replaceable words\n",
        "\n",
        "    random.shuffle(eligible_indices)\n",
        "    replaced = 0\n",
        "\n",
        "    for idx in eligible_indices:\n",
        "        synonyms = get_synonyms(words[idx])\n",
        "        if synonyms:\n",
        "            new_words[idx] = random.choice(synonyms)\n",
        "            replaced += 1\n",
        "        if replaced >= n_replacements:\n",
        "            break\n",
        "\n",
        "    return ' '.join(new_words)\n",
        "\n",
        "# augment only the minority classes\n",
        "augmented_texts = []\n",
        "augmented_labels = []\n",
        "\n",
        "label_counts = Counter(df['LABEL'])\n",
        "majority_count = max(label_counts.values())\n",
        "\n",
        "minority_classes = [cls for cls, count in label_counts.items() if count < 0.5 * majority_count] # set a threshold\n",
        "\n",
        "print(\"Minority classes detected for augmentation:\", minority_classes)\n",
        "\n",
        "for cls in minority_classes:\n",
        "    samples = df[df['LABEL'] == cls]\n",
        "\n",
        "    for _, row in samples.iterrows():\n",
        "        for _ in range(3):  # 3 augmentations per original\n",
        "            try:\n",
        "                aug_text = synonym_augment(row['TEXT'], n_replacements=2)\n",
        "                # optionally skip empty augmentations\n",
        "                if aug_text.strip():\n",
        "                    augmented_texts.append(aug_text)\n",
        "                    augmented_labels.append(cls)\n",
        "            except Exception as e:\n",
        "                continue\n",
        "\n",
        "\n",
        "# merge augmented and original data\n",
        "df_aug = pd.DataFrame({'TEXT': augmented_texts, 'LABEL': augmented_labels})\n",
        "df_combined = pd.concat([df, df_aug], ignore_index=True).drop_duplicates().reset_index(drop=True)\n",
        "\n",
        "print(\"Original size:\", len(df))\n",
        "print(\"Augmented size:\", len(df_aug))\n",
        "print(\"Combined size:\", len(df_combined))\n"
      ]
    },
    {
      "cell_type": "markdown",
      "source": [
        "Vectorizer"
      ],
      "metadata": {
        "id": "ZQoXfW75LiVX"
      }
    },
    {
      "cell_type": "code",
      "execution_count": 20,
      "metadata": {
        "id": "ZgB50H7bOupc"
      },
      "outputs": [],
      "source": [
        "from sklearn.feature_extraction.text import TfidfVectorizer # vectorize text using tfidf vectorizer\n",
        "\n",
        "vectorizer = TfidfVectorizer(max_features=10000)\n",
        "X = vectorizer.fit_transform(df_combined['TEXT'])\n",
        "y = df_combined['LABEL']\n"
      ]
    },
    {
      "cell_type": "markdown",
      "source": [
        "Label Encoder"
      ],
      "metadata": {
        "id": "bW8l1l5GLgGw"
      }
    },
    {
      "cell_type": "code",
      "execution_count": 21,
      "metadata": {
        "id": "PrFLeIzvPBZ8"
      },
      "outputs": [],
      "source": [
        "from sklearn.preprocessing import LabelEncoder # label encode the label column\n",
        "\n",
        "le = LabelEncoder()\n",
        "y = le.fit_transform(df_combined['LABEL'])\n"
      ]
    },
    {
      "cell_type": "markdown",
      "source": [
        "Dimension reduction and Train-test split"
      ],
      "metadata": {
        "id": "ReGlvOxVLdMG"
      }
    },
    {
      "cell_type": "code",
      "execution_count": 22,
      "metadata": {
        "id": "1pNp-nbFdQ0C"
      },
      "outputs": [],
      "source": [
        "from sklearn.decomposition import TruncatedSVD\n",
        "\n",
        "svd = TruncatedSVD(n_components=300)  # reduce feature dimensionality\n",
        "X_reduced = svd.fit_transform(X)  # transform full dataset\n",
        "\n",
        "# train-test split\n",
        "X_train, X_test, y_train, y_test = train_test_split(X_reduced, y, shuffle=True, test_size=0.2, random_state=42)"
      ]
    },
    {
      "cell_type": "code",
      "source": [
        "# import warnings\n",
        "# from sklearn.exceptions import ConvergenceWarning\n",
        "\n",
        "# # Suppress only convergence warnings\n",
        "# warnings.filterwarnings(\"ignore\", category=ConvergenceWarning)"
      ],
      "metadata": {
        "id": "LGB3o72bCQIY"
      },
      "execution_count": 24,
      "outputs": []
    },
    {
      "cell_type": "markdown",
      "metadata": {
        "id": "mKtFp1lsbFxT"
      },
      "source": [
        "**Machine Learing models**"
      ]
    },
    {
      "cell_type": "markdown",
      "metadata": {
        "id": "HJtIsEPcb8NG"
      },
      "source": [
        "Logistic Regression"
      ]
    },
    {
      "cell_type": "code",
      "execution_count": 25,
      "metadata": {
        "colab": {
          "base_uri": "https://localhost:8080/",
          "height": 1000
        },
        "id": "_L-bR7KIb98k",
        "outputId": "e8e7352e-b6de-46ac-fc85-249be6594bac"
      },
      "outputs": [
        {
          "output_type": "stream",
          "name": "stdout",
          "text": [
            "Epoch 1/200 - Log Loss: 1.6280\n",
            "Epoch 2/200 - Log Loss: 1.5783\n",
            "Epoch 3/200 - Log Loss: 1.5732\n",
            "Epoch 4/200 - Log Loss: 1.5634\n",
            "Epoch 5/200 - Log Loss: 1.5572\n",
            "Epoch 6/200 - Log Loss: 1.5214\n",
            "Epoch 7/200 - Log Loss: 1.4914\n",
            "Epoch 8/200 - Log Loss: 1.4816\n",
            "Epoch 9/200 - Log Loss: 1.4730\n",
            "Epoch 10/200 - Log Loss: 1.4652\n",
            "Epoch 11/200 - Log Loss: 1.4576\n",
            "Epoch 12/200 - Log Loss: 1.4501\n",
            "Epoch 13/200 - Log Loss: 1.4428\n",
            "Epoch 14/200 - Log Loss: 1.4355\n",
            "Epoch 15/200 - Log Loss: 1.4285\n",
            "Epoch 16/200 - Log Loss: 1.4214\n",
            "Epoch 17/200 - Log Loss: 1.4145\n",
            "Epoch 18/200 - Log Loss: 1.4076\n",
            "Epoch 19/200 - Log Loss: 1.4009\n",
            "Epoch 20/200 - Log Loss: 1.3942\n",
            "Epoch 21/200 - Log Loss: 1.3876\n",
            "Epoch 22/200 - Log Loss: 1.3811\n",
            "Epoch 23/200 - Log Loss: 1.3746\n",
            "Epoch 24/200 - Log Loss: 1.3682\n",
            "Epoch 25/200 - Log Loss: 1.3620\n",
            "Epoch 26/200 - Log Loss: 1.3557\n",
            "Epoch 27/200 - Log Loss: 1.3495\n",
            "Epoch 28/200 - Log Loss: 1.3434\n",
            "Epoch 29/200 - Log Loss: 1.3373\n",
            "Epoch 30/200 - Log Loss: 1.3313\n",
            "Epoch 31/200 - Log Loss: 1.3253\n",
            "Epoch 32/200 - Log Loss: 1.3194\n",
            "Epoch 33/200 - Log Loss: 1.3135\n",
            "Epoch 34/200 - Log Loss: 1.3077\n",
            "Epoch 35/200 - Log Loss: 1.3019\n",
            "Epoch 36/200 - Log Loss: 1.2961\n",
            "Epoch 37/200 - Log Loss: 1.2904\n",
            "Epoch 38/200 - Log Loss: 1.2847\n",
            "Epoch 39/200 - Log Loss: 1.2790\n",
            "Epoch 40/200 - Log Loss: 1.2733\n",
            "Epoch 41/200 - Log Loss: 1.2676\n",
            "Epoch 42/200 - Log Loss: 1.2621\n",
            "Epoch 43/200 - Log Loss: 1.2564\n",
            "Epoch 44/200 - Log Loss: 1.2508\n",
            "Epoch 45/200 - Log Loss: 1.2452\n",
            "Epoch 46/200 - Log Loss: 1.2396\n",
            "Epoch 47/200 - Log Loss: 1.2339\n",
            "Epoch 48/200 - Log Loss: 1.2284\n",
            "Epoch 49/200 - Log Loss: 1.2227\n",
            "Epoch 50/200 - Log Loss: 1.2171\n",
            "Epoch 51/200 - Log Loss: 1.2113\n",
            "Epoch 52/200 - Log Loss: 1.2057\n",
            "Epoch 53/200 - Log Loss: 1.1998\n",
            "Epoch 54/200 - Log Loss: 1.1941\n",
            "Epoch 55/200 - Log Loss: 1.1880\n",
            "Epoch 56/200 - Log Loss: 1.1822\n",
            "Epoch 57/200 - Log Loss: 1.1759\n",
            "Epoch 58/200 - Log Loss: 1.1700\n",
            "Epoch 59/200 - Log Loss: 1.1678\n",
            "Epoch 60/200 - Log Loss: 1.1480\n",
            "Epoch 61/200 - Log Loss: 1.1325\n",
            "Epoch 62/200 - Log Loss: 1.1259\n",
            "Epoch 63/200 - Log Loss: 1.1212\n",
            "Epoch 64/200 - Log Loss: 1.1168\n",
            "Epoch 65/200 - Log Loss: 1.1120\n",
            "Epoch 66/200 - Log Loss: 1.1075\n",
            "Epoch 67/200 - Log Loss: 1.1025\n",
            "Epoch 68/200 - Log Loss: 1.0978\n",
            "Epoch 69/200 - Log Loss: 1.0924\n",
            "Epoch 70/200 - Log Loss: 1.0874\n",
            "Epoch 71/200 - Log Loss: 1.0847\n",
            "Epoch 72/200 - Log Loss: 1.0687\n",
            "Epoch 73/200 - Log Loss: 1.0553\n",
            "Epoch 74/200 - Log Loss: 1.0500\n",
            "Epoch 75/200 - Log Loss: 1.0468\n",
            "Epoch 76/200 - Log Loss: 1.0439\n",
            "Epoch 77/200 - Log Loss: 1.0408\n",
            "Epoch 78/200 - Log Loss: 1.0379\n",
            "Epoch 79/200 - Log Loss: 1.0347\n",
            "Epoch 80/200 - Log Loss: 1.0317\n",
            "Epoch 81/200 - Log Loss: 1.0284\n",
            "Epoch 82/200 - Log Loss: 1.0253\n",
            "Epoch 83/200 - Log Loss: 1.0217\n",
            "Epoch 84/200 - Log Loss: 1.0185\n",
            "Epoch 85/200 - Log Loss: 1.0146\n",
            "Epoch 86/200 - Log Loss: 1.0111\n",
            "Epoch 87/200 - Log Loss: 1.0068\n",
            "Epoch 88/200 - Log Loss: 1.0029\n",
            "Epoch 89/200 - Log Loss: 1.0000\n",
            "Epoch 90/200 - Log Loss: 0.9875\n",
            "Epoch 91/200 - Log Loss: 0.9754\n",
            "Epoch 92/200 - Log Loss: 0.9722\n",
            "Epoch 93/200 - Log Loss: 0.9694\n",
            "Epoch 94/200 - Log Loss: 0.9670\n",
            "Epoch 95/200 - Log Loss: 0.9644\n",
            "Epoch 96/200 - Log Loss: 0.9621\n",
            "Epoch 97/200 - Log Loss: 0.9596\n",
            "Epoch 98/200 - Log Loss: 0.9573\n",
            "Epoch 99/200 - Log Loss: 0.9546\n",
            "Epoch 100/200 - Log Loss: 0.9522\n",
            "Epoch 101/200 - Log Loss: 0.9492\n",
            "Epoch 102/200 - Log Loss: 0.9466\n",
            "Epoch 103/200 - Log Loss: 0.9433\n",
            "Epoch 104/200 - Log Loss: 0.9404\n",
            "Epoch 105/200 - Log Loss: 0.9367\n",
            "Epoch 106/200 - Log Loss: 0.9335\n",
            "Epoch 107/200 - Log Loss: 0.9309\n",
            "Epoch 108/200 - Log Loss: 0.9209\n",
            "Epoch 109/200 - Log Loss: 0.9182\n",
            "Epoch 110/200 - Log Loss: 0.9161\n",
            "Epoch 111/200 - Log Loss: 0.9149\n",
            "Epoch 112/200 - Log Loss: 0.9138\n",
            "Epoch 113/200 - Log Loss: 0.9126\n",
            "Epoch 114/200 - Log Loss: 0.9115\n",
            "Epoch 115/200 - Log Loss: 0.9104\n",
            "Epoch 116/200 - Log Loss: 0.9093\n",
            "Epoch 117/200 - Log Loss: 0.9081\n",
            "Epoch 118/200 - Log Loss: 0.9070\n",
            "Epoch 119/200 - Log Loss: 0.9059\n",
            "Epoch 120/200 - Log Loss: 0.9048\n",
            "Epoch 121/200 - Log Loss: 0.9036\n",
            "Epoch 122/200 - Log Loss: 0.9025\n",
            "Epoch 123/200 - Log Loss: 0.9013\n",
            "Epoch 124/200 - Log Loss: 0.9002\n",
            "Epoch 125/200 - Log Loss: 0.8989\n",
            "Epoch 126/200 - Log Loss: 0.8978\n",
            "Epoch 127/200 - Log Loss: 0.8965\n",
            "Epoch 128/200 - Log Loss: 0.8954\n",
            "Epoch 129/200 - Log Loss: 0.8941\n",
            "Epoch 130/200 - Log Loss: 0.8929\n",
            "Epoch 131/200 - Log Loss: 0.8915\n",
            "Epoch 132/200 - Log Loss: 0.8903\n",
            "Epoch 133/200 - Log Loss: 0.8888\n",
            "Epoch 134/200 - Log Loss: 0.8875\n",
            "Epoch 135/200 - Log Loss: 0.8859\n",
            "Epoch 136/200 - Log Loss: 0.8846\n",
            "Epoch 137/200 - Log Loss: 0.8828\n",
            "Epoch 138/200 - Log Loss: 0.8813\n",
            "Epoch 139/200 - Log Loss: 0.8793\n",
            "Epoch 140/200 - Log Loss: 0.8776\n",
            "Epoch 141/200 - Log Loss: 0.8752\n",
            "Epoch 142/200 - Log Loss: 0.8733\n",
            "Epoch 143/200 - Log Loss: 0.8703\n",
            "Epoch 144/200 - Log Loss: 0.8679\n",
            "Epoch 145/200 - Log Loss: 0.8638\n",
            "Epoch 146/200 - Log Loss: 0.8578\n",
            "Epoch 147/200 - Log Loss: 0.8492\n",
            "Epoch 148/200 - Log Loss: 0.8479\n",
            "Epoch 149/200 - Log Loss: 0.8464\n",
            "Epoch 150/200 - Log Loss: 0.8452\n",
            "Epoch 151/200 - Log Loss: 0.8439\n",
            "Epoch 152/200 - Log Loss: 0.8429\n",
            "Epoch 153/200 - Log Loss: 0.8419\n",
            "Epoch 154/200 - Log Loss: 0.8410\n",
            "Epoch 155/200 - Log Loss: 0.8400\n",
            "Epoch 156/200 - Log Loss: 0.8392\n",
            "Epoch 157/200 - Log Loss: 0.8381\n",
            "Epoch 158/200 - Log Loss: 0.8373\n",
            "Epoch 159/200 - Log Loss: 0.8361\n",
            "Epoch 160/200 - Log Loss: 0.8352\n",
            "Epoch 161/200 - Log Loss: 0.8339\n",
            "Epoch 162/200 - Log Loss: 0.8329\n",
            "Epoch 163/200 - Log Loss: 0.8314\n",
            "Epoch 164/200 - Log Loss: 0.8302\n",
            "Epoch 165/200 - Log Loss: 0.8285\n",
            "Epoch 166/200 - Log Loss: 0.8272\n",
            "Epoch 167/200 - Log Loss: 0.8253\n",
            "Epoch 168/200 - Log Loss: 0.8239\n",
            "Epoch 169/200 - Log Loss: 0.8228\n",
            "Epoch 170/200 - Log Loss: 0.8219\n",
            "Epoch 171/200 - Log Loss: 0.8212\n",
            "Epoch 172/200 - Log Loss: 0.8206\n",
            "Epoch 173/200 - Log Loss: 0.8199\n",
            "Epoch 174/200 - Log Loss: 0.8193\n",
            "Epoch 175/200 - Log Loss: 0.8186\n",
            "Epoch 176/200 - Log Loss: 0.8181\n",
            "Epoch 177/200 - Log Loss: 0.8173\n",
            "Epoch 178/200 - Log Loss: 0.8167\n",
            "Epoch 179/200 - Log Loss: 0.8159\n",
            "Epoch 180/200 - Log Loss: 0.8153\n",
            "Epoch 181/200 - Log Loss: 0.8145\n",
            "Epoch 182/200 - Log Loss: 0.8138\n",
            "Epoch 183/200 - Log Loss: 0.8128\n",
            "Epoch 184/200 - Log Loss: 0.8121\n",
            "Epoch 185/200 - Log Loss: 0.8110\n",
            "Epoch 186/200 - Log Loss: 0.8102\n",
            "Epoch 187/200 - Log Loss: 0.8088\n",
            "Epoch 188/200 - Log Loss: 0.8079\n",
            "Epoch 189/200 - Log Loss: 0.8061\n",
            "Epoch 190/200 - Log Loss: 0.8049\n",
            "Epoch 191/200 - Log Loss: 0.8026\n",
            "Epoch 192/200 - Log Loss: 0.7974\n",
            "Epoch 193/200 - Log Loss: 0.7911\n",
            "Epoch 194/200 - Log Loss: 0.7900\n",
            "Epoch 195/200 - Log Loss: 0.7897\n",
            "Epoch 196/200 - Log Loss: 0.7894\n",
            "Epoch 197/200 - Log Loss: 0.7891\n",
            "Epoch 198/200 - Log Loss: 0.7887\n",
            "Epoch 199/200 - Log Loss: 0.7884\n",
            "Epoch 200/200 - Log Loss: 0.7881\n"
          ]
        },
        {
          "output_type": "display_data",
          "data": {
            "text/plain": [
              "<Figure size 640x480 with 1 Axes>"
            ],
            "image/png": "[encoded data removed]"
          },
          "metadata": {}
        }
      ],
      "source": [
        "import numpy as np\n",
        "import matplotlib.pyplot as plt\n",
        "from sklearn.linear_model import LogisticRegression\n",
        "from sklearn.metrics import log_loss\n",
        "from sklearn.preprocessing import StandardScaler\n",
        "\n",
        "# initialize model with warm_start=True so we can fit multiple times\n",
        "model = LogisticRegression(\n",
        "    penalty='l2',            # L2 regularization for better generalization\n",
        "    C=1.0,                   # inverse of regularization strength; smaller values mean stronger regularization\n",
        "    max_iter=1,              # 1 iteration per fit call (for manual epoch control)\n",
        "    warm_start=True,         # retain previous state for incremental training\n",
        "    solver='lbfgs',          # good default solver for small to medium datasets\n",
        "    tol=1e-4,                # stopping tolerance for optimization; smaller for more precision\n",
        "    verbose=0,\n",
        "    random_state=42,\n",
        "    fit_intercept=True       # fit the intercept term\n",
        ")\n",
        "\n",
        "\n",
        "train_losses = []\n",
        "n_epochs = 200\n",
        "\n",
        "for epoch in range(n_epochs):\n",
        "    model.fit(X_train, y_train)  # fits 1 iteration at a time\n",
        "    # predict probabilities to compute log loss\n",
        "    probs = model.predict_proba(X_train)\n",
        "    loss = log_loss(y_train, probs)\n",
        "    train_losses.append(loss)\n",
        "    print(f\"Epoch {epoch+1}/{n_epochs} - Log Loss: {loss:.4f}\")\n",
        "\n",
        "# plot training loss curve\n",
        "plt.plot(range(1, n_epochs + 1), train_losses, marker='o')\n",
        "plt.xlabel('Epoch')\n",
        "plt.ylabel('Log Loss')\n",
        "plt.title('Training Log Loss per Epoch (Logistic Regression)')\n",
        "plt.grid(True)\n",
        "plt.show()\n"
      ]
    },
    {
      "cell_type": "code",
      "execution_count": 26,
      "metadata": {
        "colab": {
          "base_uri": "https://localhost:8080/"
        },
        "id": "jiyDUN-EcUeO",
        "outputId": "8704971d-a866-49fa-cfb5-8dd3a654f69e"
      },
      "outputs": [
        {
          "output_type": "stream",
          "name": "stdout",
          "text": [
            "\n",
            "Classification Report:\n",
            "              precision    recall  f1-score   support\n",
            "\n",
            "           0       0.64      0.75      0.69      1714\n",
            "           1       0.82      0.75      0.78       905\n",
            "           2       0.85      0.86      0.85      1085\n",
            "           3       0.72      0.35      0.47       376\n",
            "           4       0.87      0.45      0.59       181\n",
            "           5       0.62      0.64      0.63      1386\n",
            "\n",
            "    accuracy                           0.71      5647\n",
            "   macro avg       0.75      0.63      0.67      5647\n",
            "weighted avg       0.72      0.71      0.70      5647\n",
            "\n"
          ]
        }
      ],
      "source": [
        "# print classification report of logistic regression\n",
        "y_pred = model.predict(X_test)\n",
        "print(\"\\nClassification Report:\")\n",
        "print(classification_report(y_test, y_pred))"
      ]
    },
    {
      "cell_type": "markdown",
      "metadata": {
        "id": "B_yYQdjjdNR3"
      },
      "source": [
        "Support Vector Machine"
      ]
    },
    {
      "cell_type": "code",
      "execution_count": 27,
      "metadata": {
        "id": "ipMXMn78dPwb",
        "colab": {
          "base_uri": "https://localhost:8080/"
        },
        "outputId": "b0d64ec7-0960-4703-8441-f9a8855626fa"
      },
      "outputs": [
        {
          "output_type": "stream",
          "name": "stdout",
          "text": [
            "Final Hinge Loss: 0.188386302368625\n"
          ]
        }
      ],
      "source": [
        "from sklearn.svm import SVC\n",
        "from sklearn.metrics import hinge_loss\n",
        "\n",
        "\n",
        "model = SVC(\n",
        "    kernel='rbf',       # radial basis function kernel\n",
        "    C=1.0,              # regularization parameter\n",
        "    gamma='scale',      # kernel coefficient\n",
        "    probability=True,   # enable probability estimates\n",
        "    class_weight='balanced',  # handle class imbalance automatically\n",
        "    random_state=42\n",
        ")\n",
        "\n",
        "# fit\n",
        "model.fit(X_train, y_train)\n",
        "\n",
        "# decision_function returns raw margin distances\n",
        "decision_scores = model.decision_function(X_train)\n",
        "\n",
        "loss = hinge_loss(y_train, decision_scores)\n",
        "print(\"Final Hinge Loss:\", loss)"
      ]
    },
    {
      "cell_type": "code",
      "execution_count": 28,
      "metadata": {
        "id": "f0GAfyn6fi6-",
        "colab": {
          "base_uri": "https://localhost:8080/"
        },
        "outputId": "e007ac78-9644-4a1f-92f0-c1a4f420a852"
      },
      "outputs": [
        {
          "output_type": "stream",
          "name": "stdout",
          "text": [
            "              precision    recall  f1-score   support\n",
            "\n",
            "           0       0.87      0.75      0.81      1714\n",
            "           1       0.82      0.83      0.82       905\n",
            "           2       0.92      0.88      0.90      1085\n",
            "           3       0.86      0.98      0.92       376\n",
            "           4       0.90      1.00      0.95       181\n",
            "           5       0.81      0.91      0.86      1386\n",
            "\n",
            "    accuracy                           0.85      5647\n",
            "   macro avg       0.86      0.89      0.88      5647\n",
            "weighted avg       0.86      0.85      0.85      5647\n",
            "\n"
          ]
        }
      ],
      "source": [
        "from sklearn.metrics import classification_report\n",
        "\n",
        "# predict the labels\n",
        "y_pred = model.predict(X_test)\n",
        "# print classification report\n",
        "report = classification_report(y_test, y_pred)\n",
        "print(report)\n"
      ]
    },
    {
      "cell_type": "markdown",
      "metadata": {
        "id": "NBw9XQQmlpu-"
      },
      "source": [
        "Random Forest"
      ]
    },
    {
      "cell_type": "code",
      "execution_count": 29,
      "metadata": {
        "id": "6FWiZ39cZ39C",
        "colab": {
          "base_uri": "https://localhost:8080/",
          "height": 1000
        },
        "outputId": "a6585fb9-3a5f-4fbd-fb65-e2598b4acdc2"
      },
      "outputs": [
        {
          "output_type": "stream",
          "name": "stdout",
          "text": [
            "Trees: 1, OOB Error: 0.5707\n",
            "Trees: 2, OOB Error: 0.4985\n",
            "Trees: 3, OOB Error: 0.4353\n",
            "Trees: 4, OOB Error: 0.3924\n",
            "Trees: 5, OOB Error: 0.3574\n",
            "Trees: 6, OOB Error: 0.3322\n",
            "Trees: 7, OOB Error: 0.3131\n",
            "Trees: 8, OOB Error: 0.2945\n",
            "Trees: 9, OOB Error: 0.2782\n",
            "Trees: 10, OOB Error: 0.2653\n",
            "Trees: 11, OOB Error: 0.2523\n",
            "Trees: 12, OOB Error: 0.2427\n",
            "Trees: 13, OOB Error: 0.2342\n",
            "Trees: 14, OOB Error: 0.2253\n",
            "Trees: 15, OOB Error: 0.2160\n",
            "Trees: 16, OOB Error: 0.2101\n",
            "Trees: 17, OOB Error: 0.2045\n",
            "Trees: 18, OOB Error: 0.1981\n",
            "Trees: 19, OOB Error: 0.1921\n",
            "Trees: 20, OOB Error: 0.1879\n",
            "Trees: 21, OOB Error: 0.1815\n",
            "Trees: 22, OOB Error: 0.1789\n",
            "Trees: 23, OOB Error: 0.1764\n",
            "Trees: 24, OOB Error: 0.1723\n",
            "Trees: 25, OOB Error: 0.1699\n",
            "Trees: 26, OOB Error: 0.1669\n",
            "Trees: 27, OOB Error: 0.1642\n",
            "Trees: 28, OOB Error: 0.1625\n",
            "Trees: 29, OOB Error: 0.1609\n",
            "Trees: 30, OOB Error: 0.1600\n",
            "Trees: 31, OOB Error: 0.1582\n",
            "Trees: 32, OOB Error: 0.1574\n",
            "Trees: 33, OOB Error: 0.1544\n",
            "Trees: 34, OOB Error: 0.1526\n",
            "Trees: 35, OOB Error: 0.1511\n",
            "Trees: 36, OOB Error: 0.1486\n",
            "Trees: 37, OOB Error: 0.1467\n",
            "Trees: 38, OOB Error: 0.1457\n",
            "Trees: 39, OOB Error: 0.1455\n",
            "Trees: 40, OOB Error: 0.1437\n",
            "Trees: 41, OOB Error: 0.1426\n",
            "Trees: 42, OOB Error: 0.1411\n",
            "Trees: 43, OOB Error: 0.1399\n",
            "Trees: 44, OOB Error: 0.1393\n",
            "Trees: 45, OOB Error: 0.1381\n",
            "Trees: 46, OOB Error: 0.1376\n",
            "Trees: 47, OOB Error: 0.1367\n",
            "Trees: 48, OOB Error: 0.1355\n",
            "Trees: 49, OOB Error: 0.1355\n",
            "Trees: 50, OOB Error: 0.1342\n",
            "Trees: 51, OOB Error: 0.1335\n",
            "Trees: 52, OOB Error: 0.1329\n",
            "Trees: 53, OOB Error: 0.1320\n",
            "Trees: 54, OOB Error: 0.1321\n",
            "Trees: 55, OOB Error: 0.1321\n",
            "Trees: 56, OOB Error: 0.1319\n",
            "Trees: 57, OOB Error: 0.1311\n",
            "Trees: 58, OOB Error: 0.1302\n",
            "Trees: 59, OOB Error: 0.1300\n",
            "Trees: 60, OOB Error: 0.1294\n",
            "Trees: 61, OOB Error: 0.1295\n",
            "Trees: 62, OOB Error: 0.1287\n",
            "Trees: 63, OOB Error: 0.1286\n",
            "Trees: 64, OOB Error: 0.1283\n",
            "Trees: 65, OOB Error: 0.1284\n",
            "Trees: 66, OOB Error: 0.1278\n",
            "Trees: 67, OOB Error: 0.1275\n",
            "Trees: 68, OOB Error: 0.1271\n",
            "Trees: 69, OOB Error: 0.1267\n",
            "Trees: 70, OOB Error: 0.1260\n",
            "Trees: 71, OOB Error: 0.1256\n",
            "Trees: 72, OOB Error: 0.1247\n",
            "Trees: 73, OOB Error: 0.1240\n",
            "Trees: 74, OOB Error: 0.1236\n",
            "Trees: 75, OOB Error: 0.1233\n",
            "Trees: 76, OOB Error: 0.1227\n",
            "Trees: 77, OOB Error: 0.1223\n",
            "Trees: 78, OOB Error: 0.1227\n",
            "Trees: 79, OOB Error: 0.1224\n",
            "Trees: 80, OOB Error: 0.1225\n",
            "Trees: 81, OOB Error: 0.1228\n",
            "Trees: 82, OOB Error: 0.1224\n",
            "Trees: 83, OOB Error: 0.1217\n",
            "Trees: 84, OOB Error: 0.1218\n",
            "Trees: 85, OOB Error: 0.1213\n",
            "Trees: 86, OOB Error: 0.1207\n",
            "Trees: 87, OOB Error: 0.1206\n",
            "Trees: 88, OOB Error: 0.1206\n",
            "Trees: 89, OOB Error: 0.1201\n",
            "Trees: 90, OOB Error: 0.1200\n",
            "Trees: 91, OOB Error: 0.1198\n",
            "Trees: 92, OOB Error: 0.1198\n",
            "Trees: 93, OOB Error: 0.1192\n",
            "Trees: 94, OOB Error: 0.1195\n",
            "Trees: 95, OOB Error: 0.1185\n",
            "Trees: 96, OOB Error: 0.1182\n",
            "Trees: 97, OOB Error: 0.1180\n",
            "Trees: 98, OOB Error: 0.1175\n",
            "Trees: 99, OOB Error: 0.1181\n",
            "Trees: 100, OOB Error: 0.1179\n"
          ]
        },
        {
          "output_type": "display_data",
          "data": {
            "text/plain": [
              "<Figure size 640x480 with 1 Axes>"
            ],
            "image/png": "[encoded data removed]"
          },
          "metadata": {}
        }
      ],
      "source": [
        "import matplotlib.pyplot as plt\n",
        "from sklearn.ensemble import RandomForestClassifier\n",
        "from sklearn.metrics import accuracy_score\n",
        "import numpy as np\n",
        "import warnings\n",
        "\n",
        "warnings.filterwarnings(\"ignore\", category=UserWarning)\n",
        "\n",
        "oob_errors = []\n",
        "n_trees = 100\n",
        "\n",
        "# initialize model with warm_start and oob_score enabled\n",
        "model = RandomForestClassifier(\n",
        "    n_estimators=1,\n",
        "    oob_score=True,\n",
        "    warm_start=True,\n",
        "    max_depth=20,\n",
        "    max_features='sqrt',\n",
        "    class_weight='balanced_subsample',\n",
        "    n_jobs=-1,\n",
        "    random_state=42\n",
        ")\n",
        "\n",
        "# incrementally add trees\n",
        "for i in range(1, n_trees + 1):\n",
        "    model.n_estimators = i\n",
        "    model.fit(X_train, y_train)\n",
        "\n",
        "    oob_error = 1 - model.oob_score_\n",
        "    oob_errors.append(oob_error)\n",
        "    print(f\"Trees: {i}, OOB Error: {oob_error:.4f}\")\n",
        "\n",
        "# plot OOB error\n",
        "plt.plot(range(1, n_trees + 1), oob_errors, marker='o')\n",
        "plt.xlabel(\"Number of Trees\")\n",
        "plt.ylabel(\"OOB Error\")\n",
        "plt.title(\"OOB Error vs Number of Trees\")\n",
        "plt.grid(True)\n",
        "plt.show()\n"
      ]
    },
    {
      "cell_type": "code",
      "execution_count": 30,
      "metadata": {
        "id": "Iqb4QSQKYia2",
        "colab": {
          "base_uri": "https://localhost:8080/"
        },
        "outputId": "34d428f4-e294-48fd-d04a-e737647fca93"
      },
      "outputs": [
        {
          "output_type": "stream",
          "name": "stdout",
          "text": [
            "              precision    recall  f1-score   support\n",
            "\n",
            "           0       0.84      0.91      0.87      1714\n",
            "           1       0.85      0.74      0.79       905\n",
            "           2       0.93      0.83      0.88      1085\n",
            "           3       0.96      0.94      0.95       376\n",
            "           4       0.97      0.99      0.98       181\n",
            "           5       0.93      0.99      0.96      1386\n",
            "\n",
            "    accuracy                           0.89      5647\n",
            "   macro avg       0.91      0.90      0.91      5647\n",
            "weighted avg       0.89      0.89      0.89      5647\n",
            "\n"
          ]
        }
      ],
      "source": [
        "from sklearn.metrics import classification_report\n",
        "\n",
        "# predict the labels\n",
        "y_pred = model.predict(X_test)\n",
        "\n",
        "# print classification report\n",
        "report = classification_report(y_test, y_pred)\n",
        "print(report)\n"
      ]
    },
    {
      "cell_type": "markdown",
      "metadata": {
        "id": "DUG0DRrlbDxI"
      },
      "source": [
        "XG Boost"
      ]
    },
    {
      "cell_type": "code",
      "execution_count": 31,
      "metadata": {
        "id": "WowxKEhCgfWJ",
        "colab": {
          "base_uri": "https://localhost:8080/",
          "height": 1000
        },
        "outputId": "1a7d9d6a-f06d-447d-ab50-91a5721565e2"
      },
      "outputs": [
        {
          "output_type": "stream",
          "name": "stdout",
          "text": [
            "[0]\tvalidation_0-mlogloss:1.64085\n",
            "[1]\tvalidation_0-mlogloss:1.51589\n",
            "[2]\tvalidation_0-mlogloss:1.41078\n",
            "[3]\tvalidation_0-mlogloss:1.32069\n",
            "[4]\tvalidation_0-mlogloss:1.24266\n",
            "[5]\tvalidation_0-mlogloss:1.17089\n",
            "[6]\tvalidation_0-mlogloss:1.10745\n",
            "[7]\tvalidation_0-mlogloss:1.05049\n",
            "[8]\tvalidation_0-mlogloss:0.99717\n",
            "[9]\tvalidation_0-mlogloss:0.94969\n",
            "[10]\tvalidation_0-mlogloss:0.90609\n",
            "[11]\tvalidation_0-mlogloss:0.86607\n",
            "[12]\tvalidation_0-mlogloss:0.83014\n",
            "[13]\tvalidation_0-mlogloss:0.79573\n",
            "[14]\tvalidation_0-mlogloss:0.76433\n",
            "[15]\tvalidation_0-mlogloss:0.73476\n",
            "[16]\tvalidation_0-mlogloss:0.70680\n",
            "[17]\tvalidation_0-mlogloss:0.68143\n",
            "[18]\tvalidation_0-mlogloss:0.65827\n",
            "[19]\tvalidation_0-mlogloss:0.63629\n",
            "[20]\tvalidation_0-mlogloss:0.61457\n",
            "[21]\tvalidation_0-mlogloss:0.59517\n",
            "[22]\tvalidation_0-mlogloss:0.57645\n",
            "[23]\tvalidation_0-mlogloss:0.55884\n",
            "[24]\tvalidation_0-mlogloss:0.54203\n",
            "[25]\tvalidation_0-mlogloss:0.52635\n",
            "[26]\tvalidation_0-mlogloss:0.51129\n",
            "[27]\tvalidation_0-mlogloss:0.49708\n",
            "[28]\tvalidation_0-mlogloss:0.48351\n",
            "[29]\tvalidation_0-mlogloss:0.46975\n",
            "[30]\tvalidation_0-mlogloss:0.45728\n",
            "[31]\tvalidation_0-mlogloss:0.44549\n",
            "[32]\tvalidation_0-mlogloss:0.43383\n",
            "[33]\tvalidation_0-mlogloss:0.42263\n",
            "[34]\tvalidation_0-mlogloss:0.41208\n",
            "[35]\tvalidation_0-mlogloss:0.40159\n",
            "[36]\tvalidation_0-mlogloss:0.39137\n",
            "[37]\tvalidation_0-mlogloss:0.38217\n",
            "[38]\tvalidation_0-mlogloss:0.37334\n",
            "[39]\tvalidation_0-mlogloss:0.36512\n",
            "[40]\tvalidation_0-mlogloss:0.35689\n",
            "[41]\tvalidation_0-mlogloss:0.34865\n",
            "[42]\tvalidation_0-mlogloss:0.34053\n",
            "[43]\tvalidation_0-mlogloss:0.33340\n",
            "[44]\tvalidation_0-mlogloss:0.32615\n",
            "[45]\tvalidation_0-mlogloss:0.31966\n",
            "[46]\tvalidation_0-mlogloss:0.31300\n",
            "[47]\tvalidation_0-mlogloss:0.30621\n",
            "[48]\tvalidation_0-mlogloss:0.29999\n",
            "[49]\tvalidation_0-mlogloss:0.29389\n",
            "[50]\tvalidation_0-mlogloss:0.28832\n",
            "[51]\tvalidation_0-mlogloss:0.28267\n",
            "[52]\tvalidation_0-mlogloss:0.27718\n",
            "[53]\tvalidation_0-mlogloss:0.27172\n",
            "[54]\tvalidation_0-mlogloss:0.26660\n",
            "[55]\tvalidation_0-mlogloss:0.26153\n",
            "[56]\tvalidation_0-mlogloss:0.25661\n",
            "[57]\tvalidation_0-mlogloss:0.25250\n",
            "[58]\tvalidation_0-mlogloss:0.24764\n",
            "[59]\tvalidation_0-mlogloss:0.24303\n",
            "[60]\tvalidation_0-mlogloss:0.23830\n",
            "[61]\tvalidation_0-mlogloss:0.23416\n",
            "[62]\tvalidation_0-mlogloss:0.22965\n",
            "[63]\tvalidation_0-mlogloss:0.22614\n",
            "[64]\tvalidation_0-mlogloss:0.22204\n",
            "[65]\tvalidation_0-mlogloss:0.21817\n",
            "[66]\tvalidation_0-mlogloss:0.21399\n",
            "[67]\tvalidation_0-mlogloss:0.21005\n",
            "[68]\tvalidation_0-mlogloss:0.20635\n",
            "[69]\tvalidation_0-mlogloss:0.20265\n",
            "[70]\tvalidation_0-mlogloss:0.19861\n",
            "[71]\tvalidation_0-mlogloss:0.19548\n",
            "[72]\tvalidation_0-mlogloss:0.19205\n",
            "[73]\tvalidation_0-mlogloss:0.18896\n",
            "[74]\tvalidation_0-mlogloss:0.18596\n",
            "[75]\tvalidation_0-mlogloss:0.18254\n",
            "[76]\tvalidation_0-mlogloss:0.17928\n",
            "[77]\tvalidation_0-mlogloss:0.17634\n",
            "[78]\tvalidation_0-mlogloss:0.17325\n",
            "[79]\tvalidation_0-mlogloss:0.17046\n",
            "[80]\tvalidation_0-mlogloss:0.16736\n",
            "[81]\tvalidation_0-mlogloss:0.16487\n",
            "[82]\tvalidation_0-mlogloss:0.16217\n",
            "[83]\tvalidation_0-mlogloss:0.15918\n",
            "[84]\tvalidation_0-mlogloss:0.15617\n",
            "[85]\tvalidation_0-mlogloss:0.15330\n",
            "[86]\tvalidation_0-mlogloss:0.15037\n",
            "[87]\tvalidation_0-mlogloss:0.14813\n",
            "[88]\tvalidation_0-mlogloss:0.14562\n",
            "[89]\tvalidation_0-mlogloss:0.14338\n",
            "[90]\tvalidation_0-mlogloss:0.14062\n",
            "[91]\tvalidation_0-mlogloss:0.13830\n",
            "[92]\tvalidation_0-mlogloss:0.13609\n",
            "[93]\tvalidation_0-mlogloss:0.13379\n",
            "[94]\tvalidation_0-mlogloss:0.13154\n",
            "[95]\tvalidation_0-mlogloss:0.12946\n",
            "[96]\tvalidation_0-mlogloss:0.12743\n",
            "[97]\tvalidation_0-mlogloss:0.12527\n",
            "[98]\tvalidation_0-mlogloss:0.12321\n",
            "[99]\tvalidation_0-mlogloss:0.12120\n",
            "[100]\tvalidation_0-mlogloss:0.11938\n",
            "[101]\tvalidation_0-mlogloss:0.11768\n",
            "[102]\tvalidation_0-mlogloss:0.11590\n",
            "[103]\tvalidation_0-mlogloss:0.11399\n",
            "[104]\tvalidation_0-mlogloss:0.11234\n",
            "[105]\tvalidation_0-mlogloss:0.11047\n",
            "[106]\tvalidation_0-mlogloss:0.10886\n",
            "[107]\tvalidation_0-mlogloss:0.10695\n",
            "[108]\tvalidation_0-mlogloss:0.10538\n",
            "[109]\tvalidation_0-mlogloss:0.10357\n",
            "[110]\tvalidation_0-mlogloss:0.10181\n",
            "[111]\tvalidation_0-mlogloss:0.10041\n",
            "[112]\tvalidation_0-mlogloss:0.09914\n",
            "[113]\tvalidation_0-mlogloss:0.09792\n",
            "[114]\tvalidation_0-mlogloss:0.09640\n",
            "[115]\tvalidation_0-mlogloss:0.09483\n",
            "[116]\tvalidation_0-mlogloss:0.09338\n",
            "[117]\tvalidation_0-mlogloss:0.09209\n",
            "[118]\tvalidation_0-mlogloss:0.09085\n",
            "[119]\tvalidation_0-mlogloss:0.08968\n",
            "[120]\tvalidation_0-mlogloss:0.08836\n",
            "[121]\tvalidation_0-mlogloss:0.08711\n",
            "[122]\tvalidation_0-mlogloss:0.08574\n",
            "[123]\tvalidation_0-mlogloss:0.08435\n",
            "[124]\tvalidation_0-mlogloss:0.08318\n",
            "[125]\tvalidation_0-mlogloss:0.08180\n",
            "[126]\tvalidation_0-mlogloss:0.08037\n",
            "[127]\tvalidation_0-mlogloss:0.07925\n",
            "[128]\tvalidation_0-mlogloss:0.07808\n",
            "[129]\tvalidation_0-mlogloss:0.07690\n",
            "[130]\tvalidation_0-mlogloss:0.07561\n",
            "[131]\tvalidation_0-mlogloss:0.07447\n",
            "[132]\tvalidation_0-mlogloss:0.07333\n",
            "[133]\tvalidation_0-mlogloss:0.07228\n",
            "[134]\tvalidation_0-mlogloss:0.07136\n",
            "[135]\tvalidation_0-mlogloss:0.07045\n",
            "[136]\tvalidation_0-mlogloss:0.06936\n",
            "[137]\tvalidation_0-mlogloss:0.06836\n",
            "[138]\tvalidation_0-mlogloss:0.06756\n",
            "[139]\tvalidation_0-mlogloss:0.06646\n",
            "[140]\tvalidation_0-mlogloss:0.06550\n",
            "[141]\tvalidation_0-mlogloss:0.06455\n",
            "[142]\tvalidation_0-mlogloss:0.06372\n",
            "[143]\tvalidation_0-mlogloss:0.06311\n",
            "[144]\tvalidation_0-mlogloss:0.06230\n",
            "[145]\tvalidation_0-mlogloss:0.06150\n",
            "[146]\tvalidation_0-mlogloss:0.06065\n",
            "[147]\tvalidation_0-mlogloss:0.05978\n",
            "[148]\tvalidation_0-mlogloss:0.05890\n",
            "[149]\tvalidation_0-mlogloss:0.05806\n",
            "[150]\tvalidation_0-mlogloss:0.05723\n",
            "[151]\tvalidation_0-mlogloss:0.05647\n",
            "[152]\tvalidation_0-mlogloss:0.05588\n",
            "[153]\tvalidation_0-mlogloss:0.05508\n",
            "[154]\tvalidation_0-mlogloss:0.05451\n",
            "[155]\tvalidation_0-mlogloss:0.05393\n",
            "[156]\tvalidation_0-mlogloss:0.05326\n",
            "[157]\tvalidation_0-mlogloss:0.05247\n",
            "[158]\tvalidation_0-mlogloss:0.05172\n",
            "[159]\tvalidation_0-mlogloss:0.05093\n",
            "[160]\tvalidation_0-mlogloss:0.05034\n",
            "[161]\tvalidation_0-mlogloss:0.04977\n",
            "[162]\tvalidation_0-mlogloss:0.04918\n",
            "[163]\tvalidation_0-mlogloss:0.04854\n",
            "[164]\tvalidation_0-mlogloss:0.04790\n",
            "[165]\tvalidation_0-mlogloss:0.04717\n",
            "[166]\tvalidation_0-mlogloss:0.04663\n",
            "[167]\tvalidation_0-mlogloss:0.04609\n",
            "[168]\tvalidation_0-mlogloss:0.04548\n",
            "[169]\tvalidation_0-mlogloss:0.04490\n",
            "[170]\tvalidation_0-mlogloss:0.04435\n",
            "[171]\tvalidation_0-mlogloss:0.04377\n",
            "[172]\tvalidation_0-mlogloss:0.04319\n",
            "[173]\tvalidation_0-mlogloss:0.04270\n",
            "[174]\tvalidation_0-mlogloss:0.04219\n",
            "[175]\tvalidation_0-mlogloss:0.04159\n",
            "[176]\tvalidation_0-mlogloss:0.04115\n",
            "[177]\tvalidation_0-mlogloss:0.04066\n",
            "[178]\tvalidation_0-mlogloss:0.04019\n",
            "[179]\tvalidation_0-mlogloss:0.03970\n",
            "[180]\tvalidation_0-mlogloss:0.03916\n",
            "[181]\tvalidation_0-mlogloss:0.03863\n",
            "[182]\tvalidation_0-mlogloss:0.03816\n",
            "[183]\tvalidation_0-mlogloss:0.03770\n",
            "[184]\tvalidation_0-mlogloss:0.03717\n",
            "[185]\tvalidation_0-mlogloss:0.03677\n",
            "[186]\tvalidation_0-mlogloss:0.03627\n",
            "[187]\tvalidation_0-mlogloss:0.03575\n",
            "[188]\tvalidation_0-mlogloss:0.03534\n",
            "[189]\tvalidation_0-mlogloss:0.03487\n",
            "[190]\tvalidation_0-mlogloss:0.03450\n",
            "[191]\tvalidation_0-mlogloss:0.03408\n",
            "[192]\tvalidation_0-mlogloss:0.03365\n",
            "[193]\tvalidation_0-mlogloss:0.03320\n",
            "[194]\tvalidation_0-mlogloss:0.03278\n",
            "[195]\tvalidation_0-mlogloss:0.03238\n",
            "[196]\tvalidation_0-mlogloss:0.03201\n",
            "[197]\tvalidation_0-mlogloss:0.03159\n",
            "[198]\tvalidation_0-mlogloss:0.03119\n",
            "[199]\tvalidation_0-mlogloss:0.03087\n",
            "[200]\tvalidation_0-mlogloss:0.03057\n",
            "[201]\tvalidation_0-mlogloss:0.03024\n",
            "[202]\tvalidation_0-mlogloss:0.02986\n",
            "[203]\tvalidation_0-mlogloss:0.02946\n",
            "[204]\tvalidation_0-mlogloss:0.02910\n",
            "[205]\tvalidation_0-mlogloss:0.02878\n",
            "[206]\tvalidation_0-mlogloss:0.02845\n",
            "[207]\tvalidation_0-mlogloss:0.02813\n",
            "[208]\tvalidation_0-mlogloss:0.02776\n",
            "[209]\tvalidation_0-mlogloss:0.02740\n",
            "[210]\tvalidation_0-mlogloss:0.02712\n",
            "[211]\tvalidation_0-mlogloss:0.02685\n",
            "[212]\tvalidation_0-mlogloss:0.02651\n",
            "[213]\tvalidation_0-mlogloss:0.02623\n",
            "[214]\tvalidation_0-mlogloss:0.02599\n",
            "[215]\tvalidation_0-mlogloss:0.02579\n",
            "[216]\tvalidation_0-mlogloss:0.02553\n",
            "[217]\tvalidation_0-mlogloss:0.02526\n",
            "[218]\tvalidation_0-mlogloss:0.02500\n",
            "[219]\tvalidation_0-mlogloss:0.02473\n",
            "[220]\tvalidation_0-mlogloss:0.02444\n",
            "[221]\tvalidation_0-mlogloss:0.02418\n",
            "[222]\tvalidation_0-mlogloss:0.02393\n",
            "[223]\tvalidation_0-mlogloss:0.02361\n",
            "[224]\tvalidation_0-mlogloss:0.02335\n",
            "[225]\tvalidation_0-mlogloss:0.02309\n",
            "[226]\tvalidation_0-mlogloss:0.02283\n",
            "[227]\tvalidation_0-mlogloss:0.02254\n",
            "[228]\tvalidation_0-mlogloss:0.02227\n",
            "[229]\tvalidation_0-mlogloss:0.02209\n",
            "[230]\tvalidation_0-mlogloss:0.02184\n",
            "[231]\tvalidation_0-mlogloss:0.02163\n",
            "[232]\tvalidation_0-mlogloss:0.02141\n",
            "[233]\tvalidation_0-mlogloss:0.02119\n",
            "[234]\tvalidation_0-mlogloss:0.02094\n",
            "[235]\tvalidation_0-mlogloss:0.02077\n",
            "[236]\tvalidation_0-mlogloss:0.02061\n",
            "[237]\tvalidation_0-mlogloss:0.02046\n",
            "[238]\tvalidation_0-mlogloss:0.02025\n",
            "[239]\tvalidation_0-mlogloss:0.02005\n",
            "[240]\tvalidation_0-mlogloss:0.01987\n",
            "[241]\tvalidation_0-mlogloss:0.01974\n",
            "[242]\tvalidation_0-mlogloss:0.01951\n",
            "[243]\tvalidation_0-mlogloss:0.01936\n",
            "[244]\tvalidation_0-mlogloss:0.01920\n",
            "[245]\tvalidation_0-mlogloss:0.01902\n",
            "[246]\tvalidation_0-mlogloss:0.01884\n",
            "[247]\tvalidation_0-mlogloss:0.01864\n",
            "[248]\tvalidation_0-mlogloss:0.01850\n",
            "[249]\tvalidation_0-mlogloss:0.01836\n",
            "[250]\tvalidation_0-mlogloss:0.01819\n",
            "[251]\tvalidation_0-mlogloss:0.01798\n",
            "[252]\tvalidation_0-mlogloss:0.01781\n",
            "[253]\tvalidation_0-mlogloss:0.01764\n",
            "[254]\tvalidation_0-mlogloss:0.01748\n",
            "[255]\tvalidation_0-mlogloss:0.01736\n",
            "[256]\tvalidation_0-mlogloss:0.01724\n",
            "[257]\tvalidation_0-mlogloss:0.01706\n",
            "[258]\tvalidation_0-mlogloss:0.01690\n",
            "[259]\tvalidation_0-mlogloss:0.01677\n",
            "[260]\tvalidation_0-mlogloss:0.01659\n",
            "[261]\tvalidation_0-mlogloss:0.01642\n",
            "[262]\tvalidation_0-mlogloss:0.01630\n",
            "[263]\tvalidation_0-mlogloss:0.01617\n",
            "[264]\tvalidation_0-mlogloss:0.01604\n",
            "[265]\tvalidation_0-mlogloss:0.01590\n",
            "[266]\tvalidation_0-mlogloss:0.01573\n",
            "[267]\tvalidation_0-mlogloss:0.01559\n",
            "[268]\tvalidation_0-mlogloss:0.01548\n",
            "[269]\tvalidation_0-mlogloss:0.01537\n",
            "[270]\tvalidation_0-mlogloss:0.01523\n",
            "[271]\tvalidation_0-mlogloss:0.01511\n",
            "[272]\tvalidation_0-mlogloss:0.01497\n",
            "[273]\tvalidation_0-mlogloss:0.01482\n",
            "[274]\tvalidation_0-mlogloss:0.01469\n",
            "[275]\tvalidation_0-mlogloss:0.01455\n",
            "[276]\tvalidation_0-mlogloss:0.01445\n",
            "[277]\tvalidation_0-mlogloss:0.01434\n",
            "[278]\tvalidation_0-mlogloss:0.01417\n",
            "[279]\tvalidation_0-mlogloss:0.01403\n",
            "[280]\tvalidation_0-mlogloss:0.01390\n",
            "[281]\tvalidation_0-mlogloss:0.01379\n",
            "[282]\tvalidation_0-mlogloss:0.01369\n",
            "[283]\tvalidation_0-mlogloss:0.01357\n",
            "[284]\tvalidation_0-mlogloss:0.01346\n",
            "[285]\tvalidation_0-mlogloss:0.01335\n",
            "[286]\tvalidation_0-mlogloss:0.01322\n",
            "[287]\tvalidation_0-mlogloss:0.01311\n",
            "[288]\tvalidation_0-mlogloss:0.01299\n",
            "[289]\tvalidation_0-mlogloss:0.01288\n",
            "[290]\tvalidation_0-mlogloss:0.01277\n",
            "[291]\tvalidation_0-mlogloss:0.01268\n",
            "[292]\tvalidation_0-mlogloss:0.01257\n",
            "[293]\tvalidation_0-mlogloss:0.01245\n",
            "[294]\tvalidation_0-mlogloss:0.01235\n",
            "[295]\tvalidation_0-mlogloss:0.01224\n",
            "[296]\tvalidation_0-mlogloss:0.01211\n",
            "[297]\tvalidation_0-mlogloss:0.01203\n",
            "[298]\tvalidation_0-mlogloss:0.01194\n",
            "[299]\tvalidation_0-mlogloss:0.01185\n"
          ]
        },
        {
          "output_type": "display_data",
          "data": {
            "text/plain": [
              "<Figure size 640x480 with 1 Axes>"
            ],
            "image/png": "[encoded data removed]"
          },
          "metadata": {}
        }
      ],
      "source": [
        "import matplotlib.pyplot as plt\n",
        "from xgboost import XGBClassifier\n",
        "from sklearn.utils.class_weight import compute_sample_weight\n",
        "\n",
        "# compute sample weights for imbalance\n",
        "sample_weights = compute_sample_weight(class_weight='balanced', y=y_train)\n",
        "\n",
        "# prepare eval sets for monitoring\n",
        "eval_set = [(X_train, y_train)]\n",
        "\n",
        "# model = XGBClassifier(use_label_encoder=False, eval_metric='mlogloss', verbosity=1, n_estimators=20)\n",
        "model = XGBClassifier(\n",
        "    n_estimators=300,\n",
        "    learning_rate=0.1,\n",
        "    max_depth=7,\n",
        "    subsample=0.9,\n",
        "    colsample_bytree=0.9,\n",
        "    objective='multi:softprob',\n",
        "    eval_metric='mlogloss',\n",
        "    use_label_encoder=False,\n",
        "    verbosity=1,\n",
        "    n_jobs = -1\n",
        ")\n",
        "\n",
        "# fit with eval_set to track metrics\n",
        "model.fit(X_train, y_train, sample_weight=sample_weights, eval_set=eval_set, verbose=True)\n",
        "\n",
        "# retrieve eval results\n",
        "results = model.evals_result()\n",
        "\n",
        "# plot training logloss\n",
        "epochs = len(results['validation_0']['mlogloss'])\n",
        "x_axis = range(0, epochs)\n",
        "\n",
        "plt.plot(x_axis, results['validation_0']['mlogloss'], label='Train')\n",
        "\n",
        "plt.xlabel('Epoch')\n",
        "plt.ylabel('Log Loss')\n",
        "plt.title('XGBoost Log Loss Over Epochs')\n",
        "plt.legend()\n",
        "plt.show()\n"
      ]
    },
    {
      "cell_type": "code",
      "execution_count": 32,
      "metadata": {
        "id": "_eaDctlFg1Nh",
        "colab": {
          "base_uri": "https://localhost:8080/"
        },
        "outputId": "30b6bc82-18af-4d95-919f-b32acdbffe32"
      },
      "outputs": [
        {
          "output_type": "stream",
          "name": "stdout",
          "text": [
            "              precision    recall  f1-score   support\n",
            "\n",
            "           0       0.89      0.86      0.88      1714\n",
            "           1       0.85      0.81      0.83       905\n",
            "           2       0.92      0.88      0.90      1085\n",
            "           3       0.94      0.97      0.95       376\n",
            "           4       0.97      1.00      0.99       181\n",
            "           5       0.90      1.00      0.95      1386\n",
            "\n",
            "    accuracy                           0.90      5647\n",
            "   macro avg       0.91      0.92      0.92      5647\n",
            "weighted avg       0.90      0.90      0.90      5647\n",
            "\n"
          ]
        }
      ],
      "source": [
        "from sklearn.metrics import classification_report\n",
        "\n",
        "y_pred = model.predict(X_test)\n",
        "print(classification_report(y_test, y_pred)) # print classification report"
      ]
    },
    {
      "cell_type": "markdown",
      "metadata": {
        "id": "Oqlh05KRhQLF"
      },
      "source": [
        "**Deep Learning Models**"
      ]
    },
    {
      "cell_type": "code",
      "execution_count": 33,
      "metadata": {
        "id": "Lc-SYpVAi_6K"
      },
      "outputs": [],
      "source": [
        "num_classes = 7"
      ]
    },
    {
      "cell_type": "code",
      "source": [
        "train_losses = { 'MLP': [], 'RNN': [], 'LSTM': [], 'GRU': [], 'BiRNN': [], 'BiLSTM': [], 'BiGRU': [], 'CNN': []}"
      ],
      "metadata": {
        "id": "jLcqHNAe6QOi"
      },
      "execution_count": 34,
      "outputs": []
    },
    {
      "cell_type": "markdown",
      "metadata": {
        "id": "JSyMHemvgCOA"
      },
      "source": [
        "MLP"
      ]
    },
    {
      "cell_type": "code",
      "execution_count": 35,
      "metadata": {
        "id": "LEirMJURgDKU",
        "colab": {
          "base_uri": "https://localhost:8080/"
        },
        "outputId": "28506e33-6df3-403c-aa40-002a6817c91d"
      },
      "outputs": [
        {
          "output_type": "stream",
          "name": "stdout",
          "text": [
            "Epoch [1/300], Loss: 1.8215\n",
            "Epoch [10/300], Loss: 1.6811\n",
            "Epoch [20/300], Loss: 1.4887\n",
            "Epoch [30/300], Loss: 1.3597\n",
            "Epoch [40/300], Loss: 1.2262\n",
            "Epoch [50/300], Loss: 1.0886\n",
            "Epoch [60/300], Loss: 0.9594\n",
            "Epoch [70/300], Loss: 0.8509\n",
            "Epoch [80/300], Loss: 0.7699\n",
            "Epoch [90/300], Loss: 0.7130\n",
            "Epoch [100/300], Loss: 0.6721\n",
            "Epoch [110/300], Loss: 0.6419\n",
            "Epoch [120/300], Loss: 0.6190\n",
            "Epoch [130/300], Loss: 0.6009\n",
            "Epoch [140/300], Loss: 0.5858\n",
            "Epoch [150/300], Loss: 0.5723\n",
            "Epoch [160/300], Loss: 0.5599\n",
            "Epoch [170/300], Loss: 0.5484\n",
            "Epoch [180/300], Loss: 0.5376\n",
            "Epoch [190/300], Loss: 0.5274\n",
            "Epoch [200/300], Loss: 0.5175\n",
            "Epoch [210/300], Loss: 0.5077\n",
            "Epoch [220/300], Loss: 0.4979\n",
            "Epoch [230/300], Loss: 0.4881\n",
            "Epoch [240/300], Loss: 0.4787\n",
            "Epoch [250/300], Loss: 0.4698\n",
            "Epoch [260/300], Loss: 0.4610\n",
            "Epoch [270/300], Loss: 0.4525\n",
            "Epoch [280/300], Loss: 0.4441\n",
            "Epoch [290/300], Loss: 0.4359\n",
            "Epoch [300/300], Loss: 0.4280\n",
            "\n",
            "Classification Report:\n",
            "              precision    recall  f1-score   support\n",
            "\n",
            "           0       0.74      0.74      0.74      1714\n",
            "           1       0.83      0.78      0.80       905\n",
            "           2       0.88      0.88      0.88      1085\n",
            "           3       0.79      0.78      0.78       376\n",
            "           4       0.88      0.82      0.85       181\n",
            "           5       0.73      0.78      0.75      1386\n",
            "\n",
            "    accuracy                           0.79      5647\n",
            "   macro avg       0.81      0.80      0.80      5647\n",
            "weighted avg       0.79      0.79      0.79      5647\n",
            "\n"
          ]
        }
      ],
      "source": [
        "import torch\n",
        "from torch import nn\n",
        "import torch.optim as optim\n",
        "\n",
        "import torch\n",
        "\n",
        "X_train_tensor = torch.tensor(X_train, dtype=torch.float32) # convert data to tensor\n",
        "X_test_tensor = torch.tensor(X_test, dtype=torch.float32)\n",
        "y_train_tensor = torch.tensor(y_train, dtype=torch.long)\n",
        "y_test_tensor = torch.tensor(y_test, dtype=torch.long)\n",
        "\n",
        "class SimpleMLP(nn.Module): # define a simple MLP with 1 hidden layer\n",
        "    def __init__(self, input_dim, hidden_dim, output_dim):\n",
        "        super(SimpleMLP, self).__init__()\n",
        "        self.fc1 = nn.Linear(input_dim, hidden_dim)\n",
        "        self.relu = nn.ReLU()\n",
        "        self.fc2 = nn.Linear(hidden_dim, output_dim)\n",
        "\n",
        "    def forward(self, x):\n",
        "        out = self.fc1(x)\n",
        "        out = self.relu(out)\n",
        "        out = self.fc2(out)\n",
        "        return out\n",
        "\n",
        "input_dim = X_train.shape[1]\n",
        "hidden_dim = 16\n",
        "output_dim = len(np.unique(y))  # number of classes\n",
        "\n",
        "model = SimpleMLP(input_dim, hidden_dim, output_dim)\n",
        "\n",
        "# loss and optimizer\n",
        "criterion = nn.CrossEntropyLoss()\n",
        "optimizer = optim.Adam(model.parameters(), lr=0.01)\n",
        "\n",
        "# training loop\n",
        "num_epochs = 300\n",
        "for epoch in range(num_epochs):\n",
        "    model.train()\n",
        "    optimizer.zero_grad()\n",
        "\n",
        "    outputs = model(X_train_tensor)\n",
        "    loss = criterion(outputs, y_train_tensor)\n",
        "\n",
        "    loss.backward()\n",
        "    optimizer.step()\n",
        "\n",
        "    train_losses['MLP'].append(loss.item())\n",
        "\n",
        "    if (epoch+1) % 10 == 0 or epoch == 0:\n",
        "        print(f'Epoch [{epoch+1}/{num_epochs}], Loss: {loss.item():.4f}')\n",
        "\n",
        "# evaluate on test set\n",
        "model.eval()\n",
        "with torch.no_grad():\n",
        "    test_outputs = model(X_test_tensor)\n",
        "    _, predicted = torch.max(test_outputs, 1)\n",
        "    print(\"\\nClassification Report:\")\n",
        "    print(classification_report(y_test, predicted))"
      ]
    },
    {
      "cell_type": "markdown",
      "source": [
        "RNN"
      ],
      "metadata": {
        "id": "RUNW9wpAEt62"
      }
    },
    {
      "cell_type": "code",
      "source": [
        "import torch\n",
        "from torch import nn\n",
        "import torch.optim as optim\n",
        "\n",
        "# convert data to PyTorch tensors\n",
        "X_train_tensor = torch.tensor(X_train, dtype=torch.float32)\n",
        "X_test_tensor = torch.tensor(X_test, dtype=torch.float32)\n",
        "y_train_tensor = torch.tensor(y_train, dtype=torch.long)\n",
        "y_test_tensor = torch.tensor(y_test, dtype=torch.long)\n",
        "\n",
        "# define a simple RNN model\n",
        "class SimpleRNN(nn.Module):\n",
        "    def __init__(self, input_dim, hidden_dim, output_dim, num_layers=1):\n",
        "        super(SimpleRNN, self).__init__()\n",
        "        self.rnn = nn.RNN(input_dim, hidden_dim, num_layers=num_layers, batch_first=True)\n",
        "        self.fc = nn.Linear(hidden_dim, output_dim)\n",
        "\n",
        "    def forward(self, x):\n",
        "        x = x.unsqueeze(1)  # add sequence dimension (batch_first=True expects [batch, seq_len, input_size])\n",
        "        out, _ = self.rnn(x)\n",
        "        out = out[:, -1, :]  # take the last hidden state\n",
        "        out = self.fc(out)\n",
        "        return out\n",
        "\n",
        "# model hyperparameters\n",
        "input_dim = X_train.shape[1]\n",
        "hidden_dim = 32\n",
        "output_dim = len(np.unique(y))  # number of classes\n",
        "num_layers = 1\n",
        "\n",
        "model = SimpleRNN(input_dim, hidden_dim, output_dim, num_layers)\n",
        "\n",
        "# loss and optimizer\n",
        "criterion = nn.CrossEntropyLoss()\n",
        "optimizer = optim.Adam(model.parameters(), lr=0.01)\n",
        "\n",
        "# training loop\n",
        "num_epochs = 300\n",
        "for epoch in range(num_epochs):\n",
        "    model.train()\n",
        "    optimizer.zero_grad()\n",
        "\n",
        "    outputs = model(X_train_tensor)\n",
        "    loss = criterion(outputs, y_train_tensor)\n",
        "\n",
        "    loss.backward()\n",
        "    optimizer.step()\n",
        "\n",
        "    train_losses['RNN'].append(loss.item())\n",
        "\n",
        "    if (epoch+1) % 10 == 0 or epoch == 0:\n",
        "        print(f\"Epoch [{epoch+1}/{num_epochs}], Loss: {loss.item():.4f}\")\n",
        "\n",
        "# evaluate on test set\n",
        "model.eval()\n",
        "with torch.no_grad():\n",
        "    test_outputs = model(X_test_tensor)\n",
        "    _, predicted = torch.max(test_outputs, 1)\n",
        "    print(\"\\nClassification Report:\")\n",
        "    print(classification_report(y_test, predicted))\n"
      ],
      "metadata": {
        "id": "_6b_3SZd4UkZ",
        "colab": {
          "base_uri": "https://localhost:8080/"
        },
        "outputId": "fab14441-604e-4ee9-da8d-6087391e5b2d"
      },
      "execution_count": 36,
      "outputs": [
        {
          "output_type": "stream",
          "name": "stdout",
          "text": [
            "Epoch [1/300], Loss: 1.8198\n",
            "Epoch [10/300], Loss: 1.5397\n",
            "Epoch [20/300], Loss: 1.4032\n",
            "Epoch [30/300], Loss: 1.2073\n",
            "Epoch [40/300], Loss: 1.0135\n",
            "Epoch [50/300], Loss: 0.8520\n",
            "Epoch [60/300], Loss: 0.7443\n",
            "Epoch [70/300], Loss: 0.6824\n",
            "Epoch [80/300], Loss: 0.6477\n",
            "Epoch [90/300], Loss: 0.6272\n",
            "Epoch [100/300], Loss: 0.6138\n",
            "Epoch [110/300], Loss: 0.6038\n",
            "Epoch [120/300], Loss: 0.5953\n",
            "Epoch [130/300], Loss: 0.5872\n",
            "Epoch [140/300], Loss: 0.5790\n",
            "Epoch [150/300], Loss: 0.5700\n",
            "Epoch [160/300], Loss: 0.5599\n",
            "Epoch [170/300], Loss: 0.5486\n",
            "Epoch [180/300], Loss: 0.5359\n",
            "Epoch [190/300], Loss: 0.5219\n",
            "Epoch [200/300], Loss: 0.5066\n",
            "Epoch [210/300], Loss: 0.4900\n",
            "Epoch [220/300], Loss: 0.4724\n",
            "Epoch [230/300], Loss: 0.4540\n",
            "Epoch [240/300], Loss: 0.4353\n",
            "Epoch [250/300], Loss: 0.4163\n",
            "Epoch [260/300], Loss: 0.3975\n",
            "Epoch [270/300], Loss: 0.3791\n",
            "Epoch [280/300], Loss: 0.3612\n",
            "Epoch [290/300], Loss: 0.3440\n",
            "Epoch [300/300], Loss: 0.3275\n",
            "\n",
            "Classification Report:\n",
            "              precision    recall  f1-score   support\n",
            "\n",
            "           0       0.80      0.78      0.79      1714\n",
            "           1       0.83      0.78      0.81       905\n",
            "           2       0.89      0.88      0.88      1085\n",
            "           3       0.79      0.78      0.79       376\n",
            "           4       0.92      0.91      0.92       181\n",
            "           5       0.79      0.86      0.83      1386\n",
            "\n",
            "    accuracy                           0.82      5647\n",
            "   macro avg       0.84      0.83      0.84      5647\n",
            "weighted avg       0.83      0.82      0.82      5647\n",
            "\n"
          ]
        }
      ]
    },
    {
      "cell_type": "markdown",
      "source": [
        "LSTM"
      ],
      "metadata": {
        "id": "GaIb-wR6EvvB"
      }
    },
    {
      "cell_type": "code",
      "source": [
        "import torch\n",
        "from torch import nn\n",
        "import torch.optim as optim\n",
        "\n",
        "# convert data to PyTorch tensors\n",
        "X_train_tensor = torch.tensor(X_train, dtype=torch.float32)\n",
        "X_test_tensor = torch.tensor(X_test, dtype=torch.float32)\n",
        "y_train_tensor = torch.tensor(y_train, dtype=torch.long)\n",
        "y_test_tensor = torch.tensor(y_test, dtype=torch.long)\n",
        "\n",
        "# define LSTM Model\n",
        "class SimpleLSTM(nn.Module):\n",
        "    def __init__(self, input_dim, hidden_dim, output_dim, num_layers=1):\n",
        "        super(SimpleLSTM, self).__init__()\n",
        "        self.lstm = nn.LSTM(input_dim, hidden_dim, num_layers=num_layers, batch_first=True)\n",
        "        self.fc = nn.Linear(hidden_dim, output_dim)\n",
        "\n",
        "    def forward(self, x):\n",
        "        x = x.unsqueeze(1)  # add sequence dimension\n",
        "        out, _ = self.lstm(x)\n",
        "        out = out[:, -1, :]  # take the last hidden state\n",
        "        out = self.fc(out)\n",
        "        return out\n",
        "\n",
        "# model hyperparameters\n",
        "input_dim = X_train.shape[1]\n",
        "hidden_dim = 64\n",
        "output_dim = len(np.unique(y))  # number of classes\n",
        "num_layers = 2  # using 2-layer LSTM for better representation\n",
        "\n",
        "model = SimpleLSTM(input_dim, hidden_dim, output_dim, num_layers)\n",
        "\n",
        "# loss and optimizer\n",
        "criterion = nn.CrossEntropyLoss()\n",
        "optimizer = optim.Adam(model.parameters(), lr=0.01)\n",
        "\n",
        "# training loop\n",
        "num_epochs = 300\n",
        "for epoch in range(num_epochs):\n",
        "    model.train()\n",
        "    optimizer.zero_grad()\n",
        "\n",
        "    outputs = model(X_train_tensor)\n",
        "    loss = criterion(outputs, y_train_tensor)\n",
        "\n",
        "    loss.backward()\n",
        "    optimizer.step()\n",
        "\n",
        "    train_losses['LSTM'].append(loss.item())\n",
        "\n",
        "    if (epoch+1) % 10 == 0 or epoch == 0:\n",
        "        print(f'Epoch [{epoch+1}/{num_epochs}], Loss: {loss.item():.4f}')\n",
        "\n",
        "# evaluate on test set\n",
        "model.eval()\n",
        "with torch.no_grad():\n",
        "    test_outputs = model(X_test_tensor)\n",
        "    _, predicted = torch.max(test_outputs, 1)\n",
        "    print(\"\\nClassification Report:\")\n",
        "    print(classification_report(y_test, predicted))\n"
      ],
      "metadata": {
        "id": "d01WmIO94tb8",
        "colab": {
          "base_uri": "https://localhost:8080/"
        },
        "outputId": "9f802310-0612-4986-ab00-53657353ad8f"
      },
      "execution_count": 37,
      "outputs": [
        {
          "output_type": "stream",
          "name": "stdout",
          "text": [
            "Epoch [1/300], Loss: 1.7874\n",
            "Epoch [10/300], Loss: 1.5796\n",
            "Epoch [20/300], Loss: 1.4863\n",
            "Epoch [30/300], Loss: 1.2230\n",
            "Epoch [40/300], Loss: 0.8750\n",
            "Epoch [50/300], Loss: 0.7313\n",
            "Epoch [60/300], Loss: 0.6522\n",
            "Epoch [70/300], Loss: 0.6047\n",
            "Epoch [80/300], Loss: 0.5680\n",
            "Epoch [90/300], Loss: 0.5284\n",
            "Epoch [100/300], Loss: 0.4866\n",
            "Epoch [110/300], Loss: 0.4384\n",
            "Epoch [120/300], Loss: 0.3826\n",
            "Epoch [130/300], Loss: 0.3170\n",
            "Epoch [140/300], Loss: 0.2492\n",
            "Epoch [150/300], Loss: 0.1871\n",
            "Epoch [160/300], Loss: 0.1342\n",
            "Epoch [170/300], Loss: 0.0930\n",
            "Epoch [180/300], Loss: 0.0638\n",
            "Epoch [190/300], Loss: 0.0440\n",
            "Epoch [200/300], Loss: 0.0307\n",
            "Epoch [210/300], Loss: 0.0218\n",
            "Epoch [220/300], Loss: 0.0158\n",
            "Epoch [230/300], Loss: 0.0118\n",
            "Epoch [240/300], Loss: 0.0090\n",
            "Epoch [250/300], Loss: 0.0071\n",
            "Epoch [260/300], Loss: 0.0057\n",
            "Epoch [270/300], Loss: 0.0047\n",
            "Epoch [280/300], Loss: 0.0040\n",
            "Epoch [290/300], Loss: 0.0034\n",
            "Epoch [300/300], Loss: 0.0030\n",
            "\n",
            "Classification Report:\n",
            "              precision    recall  f1-score   support\n",
            "\n",
            "           0       0.89      0.80      0.84      1714\n",
            "           1       0.82      0.77      0.79       905\n",
            "           2       0.90      0.88      0.89      1085\n",
            "           3       0.89      0.97      0.93       376\n",
            "           4       0.95      1.00      0.97       181\n",
            "           5       0.86      0.99      0.92      1386\n",
            "\n",
            "    accuracy                           0.88      5647\n",
            "   macro avg       0.89      0.90      0.89      5647\n",
            "weighted avg       0.88      0.88      0.87      5647\n",
            "\n"
          ]
        }
      ]
    },
    {
      "cell_type": "markdown",
      "source": [
        "GRU"
      ],
      "metadata": {
        "id": "eooPHV2nExmg"
      }
    },
    {
      "cell_type": "code",
      "source": [
        "import torch\n",
        "from torch import nn\n",
        "import torch.optim as optim\n",
        "\n",
        "# convert data to PyTorch tensors\n",
        "X_train_tensor = torch.tensor(X_train, dtype=torch.float32)\n",
        "X_test_tensor = torch.tensor(X_test, dtype=torch.float32)\n",
        "y_train_tensor = torch.tensor(y_train, dtype=torch.long)\n",
        "y_test_tensor = torch.tensor(y_test, dtype=torch.long)\n",
        "\n",
        "# define GRU Model\n",
        "class SimpleGRU(nn.Module):\n",
        "    def __init__(self, input_dim, hidden_dim, output_dim, num_layers=1):\n",
        "        super(SimpleGRU, self).__init__()\n",
        "        self.gru = nn.GRU(input_dim, hidden_dim, num_layers=num_layers, batch_first=True)\n",
        "        self.fc = nn.Linear(hidden_dim, output_dim)\n",
        "\n",
        "    def forward(self, x):\n",
        "        x = x.unsqueeze(1)  # add sequence dimension\n",
        "        out, _ = self.gru(x)\n",
        "        out = out[:, -1, :]  # take the last hidden state\n",
        "        out = self.fc(out)\n",
        "        return out\n",
        "\n",
        "# model hyperparameters\n",
        "input_dim = X_train.shape[1]\n",
        "hidden_dim = 64  # increased for richer feature extraction\n",
        "output_dim = len(np.unique(y))  # number of classes\n",
        "num_layers = 2  # using 2-layer GRU\n",
        "\n",
        "model = SimpleGRU(input_dim, hidden_dim, output_dim, num_layers)\n",
        "\n",
        "# loss and optimizer\n",
        "criterion = nn.CrossEntropyLoss()\n",
        "optimizer = optim.Adam(model.parameters(), lr=0.01)\n",
        "\n",
        "# training loop\n",
        "num_epochs = 300\n",
        "for epoch in range(num_epochs):\n",
        "    model.train()\n",
        "    optimizer.zero_grad()\n",
        "\n",
        "    outputs = model(X_train_tensor)\n",
        "    loss = criterion(outputs, y_train_tensor)\n",
        "\n",
        "    loss.backward()\n",
        "    optimizer.step()\n",
        "\n",
        "    train_losses['GRU'].append(loss.item())\n",
        "\n",
        "    if (epoch+1) % 10 == 0 or epoch == 0:\n",
        "        print(f'Epoch [{epoch+1}/{num_epochs}], Loss: {loss.item():.4f}')\n",
        "\n",
        "# evaluate on test set\n",
        "model.eval()\n",
        "with torch.no_grad():\n",
        "    test_outputs = model(X_test_tensor)\n",
        "    _, predicted = torch.max(test_outputs, 1)\n",
        "    print(\"\\nClassification Report:\")\n",
        "    print(classification_report(y_test, predicted))\n"
      ],
      "metadata": {
        "id": "eUZFGFxP446x",
        "colab": {
          "base_uri": "https://localhost:8080/"
        },
        "outputId": "39e7b3d4-7c87-4686-8e54-6293ab0e8a51"
      },
      "execution_count": 38,
      "outputs": [
        {
          "output_type": "stream",
          "name": "stdout",
          "text": [
            "Epoch [1/300], Loss: 1.8040\n",
            "Epoch [10/300], Loss: 1.5565\n",
            "Epoch [20/300], Loss: 1.2900\n",
            "Epoch [30/300], Loss: 0.8632\n",
            "Epoch [40/300], Loss: 0.6933\n",
            "Epoch [50/300], Loss: 0.6303\n",
            "Epoch [60/300], Loss: 0.5902\n",
            "Epoch [70/300], Loss: 0.5620\n",
            "Epoch [80/300], Loss: 0.5379\n",
            "Epoch [90/300], Loss: 0.5126\n",
            "Epoch [100/300], Loss: 0.4816\n",
            "Epoch [110/300], Loss: 0.4393\n",
            "Epoch [120/300], Loss: 0.3873\n",
            "Epoch [130/300], Loss: 0.3279\n",
            "Epoch [140/300], Loss: 0.2655\n",
            "Epoch [150/300], Loss: 0.2043\n",
            "Epoch [160/300], Loss: 0.1518\n",
            "Epoch [170/300], Loss: 0.1099\n",
            "Epoch [180/300], Loss: 0.0785\n",
            "Epoch [190/300], Loss: 0.0556\n",
            "Epoch [200/300], Loss: 0.0390\n",
            "Epoch [210/300], Loss: 0.0269\n",
            "Epoch [220/300], Loss: 0.0185\n",
            "Epoch [230/300], Loss: 0.0130\n",
            "Epoch [240/300], Loss: 0.0094\n",
            "Epoch [250/300], Loss: 0.0070\n",
            "Epoch [260/300], Loss: 0.0054\n",
            "Epoch [270/300], Loss: 0.0044\n",
            "Epoch [280/300], Loss: 0.0036\n",
            "Epoch [290/300], Loss: 0.0031\n",
            "Epoch [300/300], Loss: 0.0026\n",
            "\n",
            "Classification Report:\n",
            "              precision    recall  f1-score   support\n",
            "\n",
            "           0       0.89      0.80      0.84      1714\n",
            "           1       0.83      0.77      0.80       905\n",
            "           2       0.91      0.88      0.89      1085\n",
            "           3       0.89      0.98      0.93       376\n",
            "           4       0.96      1.00      0.98       181\n",
            "           5       0.86      1.00      0.92      1386\n",
            "\n",
            "    accuracy                           0.88      5647\n",
            "   macro avg       0.89      0.90      0.89      5647\n",
            "weighted avg       0.88      0.88      0.88      5647\n",
            "\n"
          ]
        }
      ]
    },
    {
      "cell_type": "markdown",
      "source": [
        "Bidrectional RNN"
      ],
      "metadata": {
        "id": "Jvgx0-xCE0zY"
      }
    },
    {
      "cell_type": "code",
      "source": [
        "import torch\n",
        "from torch import nn\n",
        "import torch.optim as optim\n",
        "\n",
        "# convert data to PyTorch tensors\n",
        "X_train_tensor = torch.tensor(X_train, dtype=torch.float32)\n",
        "X_test_tensor = torch.tensor(X_test, dtype=torch.float32)\n",
        "y_train_tensor = torch.tensor(y_train, dtype=torch.long)\n",
        "y_test_tensor = torch.tensor(y_test, dtype=torch.long)\n",
        "\n",
        "# define Bidirectional RNN Model\n",
        "class BiRNN(nn.Module):\n",
        "    def __init__(self, input_dim, hidden_dim, output_dim, num_layers=1):\n",
        "        super(BiRNN, self).__init__()\n",
        "        self.rnn = nn.RNN(input_dim, hidden_dim, num_layers=num_layers, batch_first=True, bidirectional=True)\n",
        "        self.fc = nn.Linear(hidden_dim * 2, output_dim)  # multiply by 2 for bidirectional output\n",
        "\n",
        "    def forward(self, x):\n",
        "        x = x.unsqueeze(1)  # add sequence dimension\n",
        "        out, _ = self.rnn(x)\n",
        "        out = out[:, -1, :]  # take the last hidden state\n",
        "        out = self.fc(out)\n",
        "        return out\n",
        "\n",
        "# model hyperparameters\n",
        "input_dim = X_train.shape[1]\n",
        "hidden_dim = 64  # increased for richer feature extraction\n",
        "output_dim = len(np.unique(y))  # number of classes\n",
        "num_layers = 2  # using 2-layer bidirectional RNN\n",
        "\n",
        "model = BiRNN(input_dim, hidden_dim, output_dim, num_layers)\n",
        "\n",
        "# loss and optimizer\n",
        "criterion = nn.CrossEntropyLoss()\n",
        "optimizer = optim.Adam(model.parameters(), lr=0.01)\n",
        "\n",
        "# training loop\n",
        "num_epochs = 300\n",
        "for epoch in range(num_epochs):\n",
        "    model.train()\n",
        "    optimizer.zero_grad()\n",
        "\n",
        "    outputs = model(X_train_tensor)\n",
        "    loss = criterion(outputs, y_train_tensor)\n",
        "\n",
        "    loss.backward()\n",
        "    optimizer.step()\n",
        "\n",
        "    train_losses['BiRNN'].append(loss.item())\n",
        "\n",
        "    if (epoch+1) % 10 == 0 or epoch == 0:\n",
        "        print(f'Epoch [{epoch+1}/{num_epochs}], Loss: {loss.item():.4f}')\n",
        "\n",
        "# evaluate on test set\n",
        "model.eval()\n",
        "with torch.no_grad():\n",
        "    test_outputs = model(X_test_tensor)\n",
        "    _, predicted = torch.max(test_outputs, 1)\n",
        "    print(\"\\nClassification Report:\")\n",
        "    print(classification_report(y_test, predicted))\n"
      ],
      "metadata": {
        "id": "zWIgtUR95CXQ",
        "colab": {
          "base_uri": "https://localhost:8080/"
        },
        "outputId": "20465852-dc9e-4d0f-e582-1c98b3d47197"
      },
      "execution_count": 39,
      "outputs": [
        {
          "output_type": "stream",
          "name": "stdout",
          "text": [
            "Epoch [1/300], Loss: 1.7733\n",
            "Epoch [10/300], Loss: 1.1884\n",
            "Epoch [20/300], Loss: 0.6939\n",
            "Epoch [30/300], Loss: 0.6402\n",
            "Epoch [40/300], Loss: 0.6004\n",
            "Epoch [50/300], Loss: 0.5836\n",
            "Epoch [60/300], Loss: 0.5725\n",
            "Epoch [70/300], Loss: 0.5618\n",
            "Epoch [80/300], Loss: 0.5491\n",
            "Epoch [90/300], Loss: 0.5326\n",
            "Epoch [100/300], Loss: 0.5130\n",
            "Epoch [110/300], Loss: 0.4912\n",
            "Epoch [120/300], Loss: 0.4659\n",
            "Epoch [130/300], Loss: 0.4366\n",
            "Epoch [140/300], Loss: 0.4039\n",
            "Epoch [150/300], Loss: 0.3690\n",
            "Epoch [160/300], Loss: 0.3346\n",
            "Epoch [170/300], Loss: 0.3001\n",
            "Epoch [180/300], Loss: 0.2655\n",
            "Epoch [190/300], Loss: 0.2314\n",
            "Epoch [200/300], Loss: 0.1983\n",
            "Epoch [210/300], Loss: 0.1675\n",
            "Epoch [220/300], Loss: 0.1393\n",
            "Epoch [230/300], Loss: 0.1143\n",
            "Epoch [240/300], Loss: 0.0924\n",
            "Epoch [250/300], Loss: 0.0739\n",
            "Epoch [260/300], Loss: 0.0587\n",
            "Epoch [270/300], Loss: 0.0465\n",
            "Epoch [280/300], Loss: 0.0370\n",
            "Epoch [290/300], Loss: 0.0297\n",
            "Epoch [300/300], Loss: 0.0242\n",
            "\n",
            "Classification Report:\n",
            "              precision    recall  f1-score   support\n",
            "\n",
            "           0       0.89      0.80      0.84      1714\n",
            "           1       0.82      0.76      0.79       905\n",
            "           2       0.90      0.87      0.88      1085\n",
            "           3       0.89      0.97      0.93       376\n",
            "           4       0.92      0.98      0.95       181\n",
            "           5       0.85      0.99      0.91      1386\n",
            "\n",
            "    accuracy                           0.87      5647\n",
            "   macro avg       0.88      0.90      0.88      5647\n",
            "weighted avg       0.87      0.87      0.87      5647\n",
            "\n"
          ]
        }
      ]
    },
    {
      "cell_type": "markdown",
      "source": [
        "Bidrectional LSTM"
      ],
      "metadata": {
        "id": "0blOLajUE3C4"
      }
    },
    {
      "cell_type": "code",
      "source": [
        "import torch\n",
        "from torch import nn\n",
        "import torch.optim as optim\n",
        "\n",
        "# convert data to PyTorch tensors\n",
        "X_train_tensor = torch.tensor(X_train, dtype=torch.float32)\n",
        "X_test_tensor = torch.tensor(X_test, dtype=torch.float32)\n",
        "y_train_tensor = torch.tensor(y_train, dtype=torch.long)\n",
        "y_test_tensor = torch.tensor(y_test, dtype=torch.long)\n",
        "\n",
        "# define Bidirectional LSTM Model\n",
        "class BiLSTM(nn.Module):\n",
        "    def __init__(self, input_dim, hidden_dim, output_dim, num_layers=1):\n",
        "        super(BiLSTM, self).__init__()\n",
        "        self.lstm = nn.LSTM(input_dim, hidden_dim, num_layers=num_layers, batch_first=True, bidirectional=True)\n",
        "        self.fc = nn.Linear(hidden_dim * 2, output_dim)  # multiply by 2 for bidirectional output\n",
        "\n",
        "    def forward(self, x):\n",
        "        x = x.unsqueeze(1)  # add sequence dimension\n",
        "        out, _ = self.lstm(x)\n",
        "        out = out[:, -1, :]  # take the last hidden state\n",
        "        out = self.fc(out)\n",
        "        return out\n",
        "\n",
        "# model hyperparameters\n",
        "input_dim = X_train.shape[1]\n",
        "hidden_dim = 64  # increased for richer feature extraction\n",
        "output_dim = len(np.unique(y))  # number of classes\n",
        "num_layers = 2  # using 2-layer bidirectional LSTM\n",
        "\n",
        "model = BiLSTM(input_dim, hidden_dim, output_dim, num_layers)\n",
        "\n",
        "# loss and optimizer\n",
        "criterion = nn.CrossEntropyLoss()\n",
        "optimizer = optim.Adam(model.parameters(), lr=0.01)\n",
        "\n",
        "# training loop\n",
        "num_epochs = 300\n",
        "for epoch in range(num_epochs):\n",
        "    model.train()\n",
        "    optimizer.zero_grad()\n",
        "\n",
        "    outputs = model(X_train_tensor)\n",
        "    loss = criterion(outputs, y_train_tensor)\n",
        "\n",
        "    loss.backward()\n",
        "    optimizer.step()\n",
        "\n",
        "    train_losses['BiLSTM'].append(loss.item())\n",
        "\n",
        "    if (epoch+1) % 10 == 0 or epoch == 0:\n",
        "        print(f'Epoch [{epoch+1}/{num_epochs}], Loss: {loss.item():.4f}')\n",
        "\n",
        "# evaluate on test set\n",
        "model.eval()\n",
        "with torch.no_grad():\n",
        "    test_outputs = model(X_test_tensor)\n",
        "    _, predicted = torch.max(test_outputs, 1)\n",
        "    print(\"\\nClassification Report:\")\n",
        "    print(classification_report(y_test, predicted))\n"
      ],
      "metadata": {
        "id": "Va_yXAKN5KfD",
        "colab": {
          "base_uri": "https://localhost:8080/"
        },
        "outputId": "56e58933-b634-41fd-f44c-9a6fdd971ed8"
      },
      "execution_count": 40,
      "outputs": [
        {
          "output_type": "stream",
          "name": "stdout",
          "text": [
            "Epoch [1/300], Loss: 1.7703\n",
            "Epoch [10/300], Loss: 1.5642\n",
            "Epoch [20/300], Loss: 1.2878\n",
            "Epoch [30/300], Loss: 0.8260\n",
            "Epoch [40/300], Loss: 0.6926\n",
            "Epoch [50/300], Loss: 0.6077\n",
            "Epoch [60/300], Loss: 0.5599\n",
            "Epoch [70/300], Loss: 0.5218\n",
            "Epoch [80/300], Loss: 0.4819\n",
            "Epoch [90/300], Loss: 0.4321\n",
            "Epoch [100/300], Loss: 0.3632\n",
            "Epoch [110/300], Loss: 0.2916\n",
            "Epoch [120/300], Loss: 0.2052\n",
            "Epoch [130/300], Loss: 0.1378\n",
            "Epoch [140/300], Loss: 0.0870\n",
            "Epoch [150/300], Loss: 0.0530\n",
            "Epoch [160/300], Loss: 0.0315\n",
            "Epoch [170/300], Loss: 0.0187\n",
            "Epoch [180/300], Loss: 0.0115\n",
            "Epoch [190/300], Loss: 0.0075\n",
            "Epoch [200/300], Loss: 0.0053\n",
            "Epoch [210/300], Loss: 0.0039\n",
            "Epoch [220/300], Loss: 0.0031\n",
            "Epoch [230/300], Loss: 0.0025\n",
            "Epoch [240/300], Loss: 0.0020\n",
            "Epoch [250/300], Loss: 0.0017\n",
            "Epoch [260/300], Loss: 0.0015\n",
            "Epoch [270/300], Loss: 0.0013\n",
            "Epoch [280/300], Loss: 0.0012\n",
            "Epoch [290/300], Loss: 0.0011\n",
            "Epoch [300/300], Loss: 0.0010\n",
            "\n",
            "Classification Report:\n",
            "              precision    recall  f1-score   support\n",
            "\n",
            "           0       0.89      0.82      0.85      1714\n",
            "           1       0.83      0.78      0.80       905\n",
            "           2       0.91      0.88      0.90      1085\n",
            "           3       0.89      0.98      0.93       376\n",
            "           4       0.95      1.00      0.97       181\n",
            "           5       0.88      0.99      0.93      1386\n",
            "\n",
            "    accuracy                           0.88      5647\n",
            "   macro avg       0.89      0.91      0.90      5647\n",
            "weighted avg       0.88      0.88      0.88      5647\n",
            "\n"
          ]
        }
      ]
    },
    {
      "cell_type": "markdown",
      "source": [
        "Bidirectional GRU"
      ],
      "metadata": {
        "id": "bcG3x8l7E5qz"
      }
    },
    {
      "cell_type": "code",
      "source": [
        "import torch\n",
        "from torch import nn\n",
        "import torch.optim as optim\n",
        "\n",
        "# convert data to PyTorch tensors\n",
        "X_train_tensor = torch.tensor(X_train, dtype=torch.float32)\n",
        "X_test_tensor = torch.tensor(X_test, dtype=torch.float32)\n",
        "y_train_tensor = torch.tensor(y_train, dtype=torch.long)\n",
        "y_test_tensor = torch.tensor(y_test, dtype=torch.long)\n",
        "\n",
        "# define Bidirectional GRU Model\n",
        "class BiGRU(nn.Module):\n",
        "    def __init__(self, input_dim, hidden_dim, output_dim, num_layers=1):\n",
        "        super(BiGRU, self).__init__()\n",
        "        self.gru = nn.GRU(input_dim, hidden_dim, num_layers=num_layers, batch_first=True, bidirectional=True)\n",
        "        self.fc = nn.Linear(hidden_dim * 2, output_dim)  # multiply by 2 for bidirectional output\n",
        "\n",
        "    def forward(self, x):\n",
        "        x = x.unsqueeze(1)  # add sequence dimension\n",
        "        out, _ = self.gru(x)\n",
        "        out = out[:, -1, :]  # take the last hidden state\n",
        "        out = self.fc(out)\n",
        "        return out\n",
        "\n",
        "# model hyperparameters\n",
        "input_dim = X_train.shape[1]\n",
        "hidden_dim = 64  # increased for richer feature extraction\n",
        "output_dim = len(np.unique(y))  # number of classes\n",
        "num_layers = 2  # using 2-layer bidirectional GRU\n",
        "\n",
        "model = BiGRU(input_dim, hidden_dim, output_dim, num_layers)\n",
        "\n",
        "# loss and optimizer\n",
        "criterion = nn.CrossEntropyLoss()\n",
        "optimizer = optim.Adam(model.parameters(), lr=0.01)\n",
        "\n",
        "# training loop\n",
        "num_epochs = 300\n",
        "for epoch in range(num_epochs):\n",
        "    model.train()\n",
        "    optimizer.zero_grad()\n",
        "\n",
        "    outputs = model(X_train_tensor)\n",
        "    loss = criterion(outputs, y_train_tensor)\n",
        "\n",
        "    loss.backward()\n",
        "    optimizer.step()\n",
        "\n",
        "    train_losses['BiGRU'].append(loss.item())\n",
        "\n",
        "    if (epoch+1) % 10 == 0 or epoch == 0:\n",
        "        print(f'Epoch [{epoch+1}/{num_epochs}], Loss: {loss.item():.4f}')\n",
        "\n",
        "# evaluate on test set\n",
        "model.eval()\n",
        "with torch.no_grad():\n",
        "    test_outputs = model(X_test_tensor)\n",
        "    _, predicted = torch.max(test_outputs, 1)\n",
        "    print(\"\\nClassification Report:\")\n",
        "    print(classification_report(y_test, predicted))\n"
      ],
      "metadata": {
        "id": "YjWHoW-K5S0i",
        "colab": {
          "base_uri": "https://localhost:8080/"
        },
        "outputId": "12485e7c-ed82-412f-89c3-d803406a6bb1"
      },
      "execution_count": 41,
      "outputs": [
        {
          "output_type": "stream",
          "name": "stdout",
          "text": [
            "Epoch [1/300], Loss: 1.7926\n",
            "Epoch [10/300], Loss: 1.4585\n",
            "Epoch [20/300], Loss: 0.9027\n",
            "Epoch [30/300], Loss: 0.6828\n",
            "Epoch [40/300], Loss: 0.6158\n",
            "Epoch [50/300], Loss: 0.5746\n",
            "Epoch [60/300], Loss: 0.5485\n",
            "Epoch [70/300], Loss: 0.5234\n",
            "Epoch [80/300], Loss: 0.4923\n",
            "Epoch [90/300], Loss: 0.4482\n",
            "Epoch [100/300], Loss: 0.4206\n",
            "Epoch [110/300], Loss: 0.3340\n",
            "Epoch [120/300], Loss: 0.2514\n",
            "Epoch [130/300], Loss: 0.1837\n",
            "Epoch [140/300], Loss: 0.1269\n",
            "Epoch [150/300], Loss: 0.0875\n",
            "Epoch [160/300], Loss: 0.0557\n",
            "Epoch [170/300], Loss: 0.0369\n",
            "Epoch [180/300], Loss: 0.0239\n",
            "Epoch [190/300], Loss: 0.0159\n",
            "Epoch [200/300], Loss: 0.0107\n",
            "Epoch [210/300], Loss: 0.0074\n",
            "Epoch [220/300], Loss: 0.0054\n",
            "Epoch [230/300], Loss: 0.0041\n",
            "Epoch [240/300], Loss: 0.0033\n",
            "Epoch [250/300], Loss: 0.0027\n",
            "Epoch [260/300], Loss: 0.0023\n",
            "Epoch [270/300], Loss: 0.0019\n",
            "Epoch [280/300], Loss: 0.0017\n",
            "Epoch [290/300], Loss: 0.0015\n",
            "Epoch [300/300], Loss: 0.0013\n",
            "\n",
            "Classification Report:\n",
            "              precision    recall  f1-score   support\n",
            "\n",
            "           0       0.90      0.81      0.85      1714\n",
            "           1       0.83      0.78      0.81       905\n",
            "           2       0.91      0.88      0.90      1085\n",
            "           3       0.88      0.98      0.93       376\n",
            "           4       0.94      0.99      0.97       181\n",
            "           5       0.86      0.99      0.92      1386\n",
            "\n",
            "    accuracy                           0.88      5647\n",
            "   macro avg       0.89      0.91      0.90      5647\n",
            "weighted avg       0.88      0.88      0.88      5647\n",
            "\n"
          ]
        }
      ]
    },
    {
      "cell_type": "markdown",
      "source": [
        "CNN"
      ],
      "metadata": {
        "id": "f-t2Aew2E8tn"
      }
    },
    {
      "cell_type": "code",
      "source": [
        "import torch\n",
        "from torch import nn\n",
        "import torch.optim as optim\n",
        "import numpy as np\n",
        "from sklearn.metrics import classification_report\n",
        "from torch.utils.data import DataLoader, TensorDataset\n",
        "\n",
        "# check for GPU availability\n",
        "device = torch.device(\"cuda\" if torch.cuda.is_available() else \"cpu\")\n",
        "print(f\"Using device: {device}\")\n",
        "\n",
        "# convert data to PyTorch tensors & move to GPU\n",
        "X_train_tensor = torch.tensor(X_train, dtype=torch.float32).unsqueeze(1).to(device)\n",
        "X_test_tensor = torch.tensor(X_test, dtype=torch.float32).unsqueeze(1).to(device)\n",
        "y_train_tensor = torch.tensor(y_train, dtype=torch.long).to(device)\n",
        "y_test_tensor = torch.tensor(y_test, dtype=torch.long).to(device)\n",
        "\n",
        "# define DataLoader for batching\n",
        "batch_size = 64  # adjust based on available memory\n",
        "train_dataset = TensorDataset(X_train_tensor, y_train_tensor)\n",
        "train_loader = DataLoader(train_dataset, batch_size=batch_size, shuffle=True)\n",
        "\n",
        "# define CNN Model for Text\n",
        "class TextCNN(nn.Module):\n",
        "    def __init__(self, input_dim, num_filters, filter_sizes, output_dim):\n",
        "        super(TextCNN, self).__init__()\n",
        "        self.convs = nn.ModuleList([\n",
        "            nn.Conv1d(in_channels=1, out_channels=num_filters, kernel_size=fs) for fs in filter_sizes\n",
        "        ])\n",
        "        self.fc = nn.Linear(num_filters * len(filter_sizes), output_dim)\n",
        "        self.dropout = nn.Dropout(0.5)\n",
        "\n",
        "    def forward(self, x):\n",
        "        x = [torch.relu(conv(x)).squeeze(2) for conv in self.convs]  # apply CNN layers\n",
        "        x = [torch.max_pool1d(out, out.shape[2]).squeeze(2) for out in x]  # apply max pooling\n",
        "        x = torch.cat(x, dim=1)  # concatenate output from different filters\n",
        "        x = self.dropout(x)\n",
        "        x = self.fc(x)  # fully connected output layer\n",
        "        return x\n",
        "\n",
        "# model hyperparameters\n",
        "input_dim = X_train.shape[1]  # feature size\n",
        "num_filters = 100  # number of filters per kernel size\n",
        "filter_sizes = [3, 4, 5]  # different kernel sizes for capturing n-gram patterns\n",
        "output_dim = len(np.unique(y))  # number of classes\n",
        "\n",
        "# instantiate model & move to GPU\n",
        "model = TextCNN(input_dim, num_filters, filter_sizes, output_dim).to(device)\n",
        "\n",
        "# loss and optimizer\n",
        "criterion = nn.CrossEntropyLoss()\n",
        "optimizer = optim.Adam(model.parameters(), lr=0.01)\n",
        "\n",
        "# training loop with batching\n",
        "num_epochs = 500\n",
        "train_losses['CNN'] = []\n",
        "\n",
        "for epoch in range(num_epochs):\n",
        "    model.train()\n",
        "    epoch_loss = 0  # track loss for averaging\n",
        "\n",
        "    for X_batch, y_batch in train_loader:\n",
        "        optimizer.zero_grad()\n",
        "\n",
        "        outputs = model(X_batch)  # compute on GPU\n",
        "        loss = criterion(outputs, y_batch)\n",
        "\n",
        "        loss.backward()\n",
        "        optimizer.step()\n",
        "\n",
        "        epoch_loss += loss.item()\n",
        "\n",
        "    train_losses['CNN'].append(epoch_loss / len(train_loader))  # average batch loss\n",
        "\n",
        "    if (epoch + 1) % 10 == 0 or epoch == 0:\n",
        "        print(f\"Epoch [{epoch+1}/{num_epochs}], Train Loss: {train_losses['CNN'][-1]:.4f}\")\n",
        "\n",
        "# evaluate on test set\n",
        "model.eval()\n",
        "with torch.no_grad():\n",
        "    test_outputs = model(X_test_tensor)\n",
        "    _, predicted = torch.max(test_outputs, 1)\n",
        "    predicted = predicted.cpu()  # move predictions back to CPU for reporting\n",
        "    print(\"\\nClassification Report:\")\n",
        "    print(classification_report(y_test, predicted))\n"
      ],
      "metadata": {
        "id": "VzwzaOmqA5zw",
        "colab": {
          "base_uri": "https://localhost:8080/"
        },
        "outputId": "71262d1a-2a49-40e6-ba8d-de9044c6cf5e"
      },
      "execution_count": 42,
      "outputs": [
        {
          "output_type": "stream",
          "name": "stdout",
          "text": [
            "Using device: cuda\n",
            "Epoch [1/500], Train Loss: 1.3912\n",
            "Epoch [10/500], Train Loss: 1.2229\n",
            "Epoch [20/500], Train Loss: 1.2204\n",
            "Epoch [30/500], Train Loss: 1.2185\n",
            "Epoch [40/500], Train Loss: 1.2120\n",
            "Epoch [50/500], Train Loss: 1.2237\n",
            "Epoch [60/500], Train Loss: 1.2079\n",
            "Epoch [70/500], Train Loss: 1.2066\n",
            "Epoch [80/500], Train Loss: 1.2157\n",
            "Epoch [90/500], Train Loss: 1.2077\n",
            "Epoch [100/500], Train Loss: 1.2159\n",
            "Epoch [110/500], Train Loss: 1.2130\n",
            "Epoch [120/500], Train Loss: 1.2085\n",
            "Epoch [130/500], Train Loss: 1.2123\n",
            "Epoch [140/500], Train Loss: 1.2162\n",
            "Epoch [150/500], Train Loss: 1.2091\n",
            "Epoch [160/500], Train Loss: 1.2056\n",
            "Epoch [170/500], Train Loss: 1.2078\n",
            "Epoch [180/500], Train Loss: 1.2072\n",
            "Epoch [190/500], Train Loss: 1.2141\n",
            "Epoch [200/500], Train Loss: 1.2094\n",
            "Epoch [210/500], Train Loss: 1.2138\n",
            "Epoch [220/500], Train Loss: 1.2179\n",
            "Epoch [230/500], Train Loss: 1.2118\n",
            "Epoch [240/500], Train Loss: 1.2169\n",
            "Epoch [250/500], Train Loss: 1.2134\n",
            "Epoch [260/500], Train Loss: 1.2108\n",
            "Epoch [270/500], Train Loss: 1.2085\n",
            "Epoch [280/500], Train Loss: 1.2067\n",
            "Epoch [290/500], Train Loss: 1.2070\n",
            "Epoch [300/500], Train Loss: 1.2092\n",
            "Epoch [310/500], Train Loss: 1.2094\n",
            "Epoch [320/500], Train Loss: 1.2104\n",
            "Epoch [330/500], Train Loss: 1.2162\n",
            "Epoch [340/500], Train Loss: 1.2124\n",
            "Epoch [350/500], Train Loss: 1.2130\n",
            "Epoch [360/500], Train Loss: 1.2100\n",
            "Epoch [370/500], Train Loss: 1.2099\n",
            "Epoch [380/500], Train Loss: 1.2091\n",
            "Epoch [390/500], Train Loss: 1.2061\n",
            "Epoch [400/500], Train Loss: 1.2181\n",
            "Epoch [410/500], Train Loss: 1.2081\n",
            "Epoch [420/500], Train Loss: 1.2095\n",
            "Epoch [430/500], Train Loss: 1.2097\n",
            "Epoch [440/500], Train Loss: 1.2062\n",
            "Epoch [450/500], Train Loss: 1.2107\n",
            "Epoch [460/500], Train Loss: 1.2081\n",
            "Epoch [470/500], Train Loss: 1.2086\n",
            "Epoch [480/500], Train Loss: 1.2147\n",
            "Epoch [490/500], Train Loss: 1.2066\n",
            "Epoch [500/500], Train Loss: 1.2087\n",
            "\n",
            "Classification Report:\n",
            "              precision    recall  f1-score   support\n",
            "\n",
            "           0       0.49      0.70      0.57      1714\n",
            "           1       0.60      0.52      0.56       905\n",
            "           2       0.69      0.79      0.74      1085\n",
            "           3       0.36      0.03      0.06       376\n",
            "           4       0.69      0.20      0.31       181\n",
            "           5       0.57      0.45      0.50      1386\n",
            "\n",
            "    accuracy                           0.56      5647\n",
            "   macro avg       0.57      0.45      0.46      5647\n",
            "weighted avg       0.56      0.56      0.54      5647\n",
            "\n"
          ]
        }
      ]
    },
    {
      "cell_type": "markdown",
      "source": [
        "Loss curves of all deep learning models"
      ],
      "metadata": {
        "id": "VCLSu2A6E-k-"
      }
    },
    {
      "cell_type": "code",
      "execution_count": 44,
      "metadata": {
        "id": "rhs2oW5OmIgF",
        "colab": {
          "base_uri": "https://localhost:8080/",
          "height": 564
        },
        "outputId": "778bea9b-e62b-4db3-b01a-fc90beb7ba5e"
      },
      "outputs": [
        {
          "output_type": "display_data",
          "data": {
            "text/plain": [
              "<Figure size 1000x600 with 1 Axes>"
            ],
            "image/png": "[encoded data removed]"
          },
          "metadata": {}
        }
      ],
      "source": [
        "import matplotlib.pyplot as plt\n",
        "\n",
        "plt.figure(figsize=(10,6))\n",
        "\n",
        "# loop through models and plot loss curves\n",
        "for model_name in train_losses.keys():\n",
        "    plt.plot(train_losses[model_name], label=f\"{model_name} Train Loss\")\n",
        "\n",
        "plt.xlabel('Epochs')\n",
        "plt.ylabel('Loss')\n",
        "plt.title('Training vs Validation Loss for Different Models')\n",
        "plt.legend()\n",
        "plt.grid(True)\n",
        "plt.show()\n"
      ]
    },
    {
      "cell_type": "code",
      "source": [],
      "metadata": {
        "id": "LJLcVjd98Y7o"
      },
      "execution_count": null,
      "outputs": []
    }
  ],
  "metadata": {
    "accelerator": "GPU",
    "colab": {
      "gpuType": "T4",
      "provenance": []
    },
    "kernelspec": {
      "display_name": "Python 3",
      "name": "python3"
    },
    "language_info": {
      "name": "python"
    }
  },
  "nbformat": 4,
  "nbformat_minor": 0
}